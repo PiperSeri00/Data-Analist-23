{
 "cells": [
  {
   "cell_type": "code",
   "execution_count": 1,
   "id": "c67b5db1-4bf5-47c7-93e5-ff97821d5aae",
   "metadata": {
    "tags": []
   },
   "outputs": [],
   "source": [
    "import pandas as pd"
   ]
  },
  {
   "cell_type": "raw",
   "id": "e9be2cc0-9b16-48cf-8d10-de5ee899e519",
   "metadata": {},
   "source": [
    "Esercizio 1"
   ]
  },
  {
   "cell_type": "code",
   "execution_count": 2,
   "id": "a1cc1001-afd7-492c-9cec-fa184ca352ec",
   "metadata": {
    "tags": []
   },
   "outputs": [],
   "source": [
    "file_path = \"C:\\\\Users\\\\Flavia\\\\Desktop\\\\4 MODULO\\\\Database di prova\\\\Mappa-dei-pub-circoli-locali-in-Italia.json\"\n",
    "pub= pd.read_json(file_path, encoding='latin1')"
   ]
  },
  {
   "cell_type": "code",
   "execution_count": 3,
   "id": "6c39829c-6867-45f5-988c-3e69825a1c65",
   "metadata": {},
   "outputs": [
    {
     "ename": "SyntaxError",
     "evalue": "invalid syntax (2089045135.py, line 1)",
     "output_type": "error",
     "traceback": [
      "\u001b[1;36m  Cell \u001b[1;32mIn[3], line 1\u001b[1;36m\u001b[0m\n\u001b[1;33m    Esercizio 2\u001b[0m\n\u001b[1;37m              ^\u001b[0m\n\u001b[1;31mSyntaxError\u001b[0m\u001b[1;31m:\u001b[0m invalid syntax\n"
     ]
    }
   ],
   "source": [
    "Esercizio 2"
   ]
  },
  {
   "cell_type": "code",
   "execution_count": null,
   "id": "4ebb0d5e-5c4a-467b-b405-4cc9a354194b",
   "metadata": {
    "tags": []
   },
   "outputs": [],
   "source": [
    "#1\n",
    "pub.shape"
   ]
  },
  {
   "cell_type": "code",
   "execution_count": null,
   "id": "c3d9bb35-0e23-4cf9-8d47-e9362063aff5",
   "metadata": {
    "tags": []
   },
   "outputs": [],
   "source": [
    "#2 modo per ricavare i metadati sul dataframe, ovvero nomi colonne, numeri colonne, tipi colonne, valori nulli, n.righe \n",
    "pub.info()"
   ]
  },
  {
   "cell_type": "code",
   "execution_count": null,
   "id": "41a4db51-db12-4f6b-b3d9-63e67c2028d1",
   "metadata": {
    "tags": []
   },
   "outputs": [],
   "source": [
    "#2\n",
    "pub.describe()"
   ]
  },
  {
   "cell_type": "code",
   "execution_count": null,
   "id": "0c7eaf2d-3194-43ba-87f1-a3769eb1a600",
   "metadata": {
    "tags": []
   },
   "outputs": [],
   "source": [
    "#3\n",
    "pub.head(1)"
   ]
  },
  {
   "cell_type": "code",
   "execution_count": null,
   "id": "8f1cc118-db83-44c9-898a-0a6982150197",
   "metadata": {
    "tags": []
   },
   "outputs": [],
   "source": [
    "#3 loc si basa sulle colonne\n",
    "pub.loc[0]\n",
    "pub.loc[0,'ccomune']"
   ]
  },
  {
   "cell_type": "code",
   "execution_count": null,
   "id": "9173b80a-2c2d-43d1-86ae-18b1cc69d432",
   "metadata": {
    "tags": []
   },
   "outputs": [],
   "source": [
    "#3 iloc si basa più sulle righe\n",
    "pub.iloc[0]\n",
    "pub.iloc[0]['ccomune']"
   ]
  },
  {
   "cell_type": "code",
   "execution_count": null,
   "id": "13431c1d-745d-480e-a949-c6b565e5db9c",
   "metadata": {
    "tags": []
   },
   "outputs": [],
   "source": [
    "#4\n",
    "pub.tail(1)"
   ]
  },
  {
   "cell_type": "code",
   "execution_count": null,
   "id": "493e9557-3f4f-45da-8626-b5fc9ed1f0fc",
   "metadata": {
    "tags": []
   },
   "outputs": [],
   "source": [
    "#4 parentesi quadreeeeee\n",
    "pub.iloc[-1]"
   ]
  },
  {
   "cell_type": "code",
   "execution_count": null,
   "id": "1e342e96-4c14-410f-8798-8a57ca539762",
   "metadata": {
    "tags": []
   },
   "outputs": [],
   "source": [
    "#5\n",
    "pub.sample()"
   ]
  },
  {
   "cell_type": "code",
   "execution_count": null,
   "id": "85e5014e-4df9-49a9-a483-a8e2c2688bb6",
   "metadata": {
    "tags": []
   },
   "outputs": [],
   "source": [
    "#5 per creare una lista da columns\n",
    "list(pub.columns)"
   ]
  },
  {
   "cell_type": "code",
   "execution_count": null,
   "id": "f567e492-8e85-4737-9978-80f91c7d59e8",
   "metadata": {
    "tags": []
   },
   "outputs": [],
   "source": [
    "#6\n",
    "anni_presenti = pub[\"canno_inserimento\"].unique()\n",
    "print(anni_presenti)"
   ]
  },
  {
   "cell_type": "code",
   "execution_count": null,
   "id": "5851623e-851b-4d9c-9a22-37a333727346",
   "metadata": {
    "tags": []
   },
   "outputs": [],
   "source": [
    "#6per farlo diventare una lista\n",
    "list(anni_presenti)\n",
    "print(anni_presenti)"
   ]
  },
  {
   "cell_type": "code",
   "execution_count": null,
   "id": "29a00567-f07e-4b11-a815-eed2cf40f408",
   "metadata": {
    "tags": []
   },
   "outputs": [],
   "source": [
    "#7\n",
    "filtrolon = (pub[\"clongitudine\"] >= 9) & (pub[\"clongitudine\"] <= 10)\n",
    "filtrolat = (pub[\"clatitudine\"] >= 45) & (pub[\"clatitudine\"] <= 46)\n",
    "selezione = pub.loc[filtrolon & filtrolat, 'cnome'].value_counts()\n",
    "print(selezione)"
   ]
  },
  {
   "cell_type": "code",
   "execution_count": null,
   "id": "27eac184-76c0-49dc-a129-093a0ce86b8c",
   "metadata": {
    "tags": []
   },
   "outputs": [],
   "source": [
    "#8\n",
    "filtro=pub.cprovincia == 'VICENZA'\n",
    "print(filtro)"
   ]
  },
  {
   "cell_type": "code",
   "execution_count": null,
   "id": "566f112a-85f9-4909-bffd-1c6667a6c4ab",
   "metadata": {
    "tags": []
   },
   "outputs": [],
   "source": [
    "att_vic=pub.loc[filtro, 'cprovincia'].value_counts()\n",
    "print(att_vic)"
   ]
  },
  {
   "cell_type": "code",
   "execution_count": null,
   "id": "d4b488ae-1bd5-44ac-8556-2e81a763e481",
   "metadata": {
    "tags": []
   },
   "outputs": [],
   "source": [
    "pub.query(\"cprovincia == 'VICENZA'\")"
   ]
  },
  {
   "cell_type": "code",
   "execution_count": null,
   "id": "d68e11fb-abe0-4dcf-8f1c-f57902e25a53",
   "metadata": {
    "tags": []
   },
   "outputs": [],
   "source": [
    "#9 quante enoteche\n",
    "pub.loc[\n",
    "    (pub[\"cnome\"].str.contains('Eno')) | (pub[\"cnome\"].str.contains('eno'))]"
   ]
  },
  {
   "cell_type": "code",
   "execution_count": null,
   "id": "1bd79a79-548f-4f20-8a6b-a5938e1e74c4",
   "metadata": {
    "tags": []
   },
   "outputs": [],
   "source": [
    "#10\n",
    "filtro1=pub.cregione == 'Lazio'\n",
    "filtro2=pub.cregione == 'Abruzzo'\n",
    "regioni = filtro1 | filtro2\n",
    "attività=pub.loc[regioni, 'cregione'].value_counts()\n",
    "print(attività)"
   ]
  },
  {
   "cell_type": "code",
   "execution_count": null,
   "id": "94a4b379-2a46-4dad-af57-5420528458f7",
   "metadata": {
    "tags": []
   },
   "outputs": [],
   "source": [
    "pub.loc[(pub[\"clongitudine\"]<=10) & (9<=pub[\"clongitudine\"]) & (45<=pub[\"clatitudine\"]) & (pub[\"clatitudine\"]<=46)].sort_values(by=[\"clongitudine\", \"clatitudine\"], ascending=False)"
   ]
  },
  {
   "cell_type": "code",
   "execution_count": 5,
   "id": "0f7cba25-7ea3-4777-98dd-502c9a8703f2",
   "metadata": {
    "tags": []
   },
   "outputs": [],
   "source": [
    "#secondo database\n",
    "file_path=\"C:\\\\Users\\\\Flavia\\\\Desktop\\\\4 MODULO\\\\Database di prova\\\\amazon.csv\"\n",
    "amazon = pd.read_csv(file_path)"
   ]
  },
  {
   "cell_type": "code",
   "execution_count": 6,
   "id": "07eed98f-434b-4993-abb0-5c5a6c9bf02b",
   "metadata": {
    "tags": []
   },
   "outputs": [
    {
     "data": {
      "text/plain": [
       "(20000, 2)"
      ]
     },
     "execution_count": 6,
     "metadata": {},
     "output_type": "execute_result"
    }
   ],
   "source": [
    "amazon.shape"
   ]
  },
  {
   "cell_type": "code",
   "execution_count": 7,
   "id": "d9d5da89-db01-4488-ae1e-5f75d3a4c660",
   "metadata": {
    "tags": []
   },
   "outputs": [
    {
     "data": {
      "text/html": [
       "<div>\n",
       "<style scoped>\n",
       "    .dataframe tbody tr th:only-of-type {\n",
       "        vertical-align: middle;\n",
       "    }\n",
       "\n",
       "    .dataframe tbody tr th {\n",
       "        vertical-align: top;\n",
       "    }\n",
       "\n",
       "    .dataframe thead th {\n",
       "        text-align: right;\n",
       "    }\n",
       "</style>\n",
       "<table border=\"1\" class=\"dataframe\">\n",
       "  <thead>\n",
       "    <tr style=\"text-align: right;\">\n",
       "      <th></th>\n",
       "      <th>reviewText</th>\n",
       "      <th>Positive</th>\n",
       "    </tr>\n",
       "  </thead>\n",
       "  <tbody>\n",
       "    <tr>\n",
       "      <th>15086</th>\n",
       "      <td>I love the random locations, and especially in...</td>\n",
       "      <td>1</td>\n",
       "    </tr>\n",
       "    <tr>\n",
       "      <th>8034</th>\n",
       "      <td>This app does everything we wanted it to do.yo...</td>\n",
       "      <td>1</td>\n",
       "    </tr>\n",
       "    <tr>\n",
       "      <th>1362</th>\n",
       "      <td>I love twitter but I hate all the extra apps t...</td>\n",
       "      <td>1</td>\n",
       "    </tr>\n",
       "    <tr>\n",
       "      <th>14643</th>\n",
       "      <td>Great game, very fun, one star reviews decepti...</td>\n",
       "      <td>1</td>\n",
       "    </tr>\n",
       "    <tr>\n",
       "      <th>14753</th>\n",
       "      <td>I was really looking forward to trying out thi...</td>\n",
       "      <td>0</td>\n",
       "    </tr>\n",
       "    <tr>\n",
       "      <th>15926</th>\n",
       "      <td>I absolutely find strength and peace, grace an...</td>\n",
       "      <td>1</td>\n",
       "    </tr>\n",
       "    <tr>\n",
       "      <th>3563</th>\n",
       "      <td>Fix please, constant force close makes this do...</td>\n",
       "      <td>0</td>\n",
       "    </tr>\n",
       "    <tr>\n",
       "      <th>14724</th>\n",
       "      <td>A pimple popping game? Can you spell GROSS? Th...</td>\n",
       "      <td>0</td>\n",
       "    </tr>\n",
       "    <tr>\n",
       "      <th>13740</th>\n",
       "      <td>This app is so fun! I love the cats, but you c...</td>\n",
       "      <td>1</td>\n",
       "    </tr>\n",
       "    <tr>\n",
       "      <th>796</th>\n",
       "      <td>I love this game. it is so addicting and easy ...</td>\n",
       "      <td>1</td>\n",
       "    </tr>\n",
       "  </tbody>\n",
       "</table>\n",
       "</div>"
      ],
      "text/plain": [
       "                                              reviewText  Positive\n",
       "15086  I love the random locations, and especially in...         1\n",
       "8034   This app does everything we wanted it to do.yo...         1\n",
       "1362   I love twitter but I hate all the extra apps t...         1\n",
       "14643  Great game, very fun, one star reviews decepti...         1\n",
       "14753  I was really looking forward to trying out thi...         0\n",
       "15926  I absolutely find strength and peace, grace an...         1\n",
       "3563   Fix please, constant force close makes this do...         0\n",
       "14724  A pimple popping game? Can you spell GROSS? Th...         0\n",
       "13740  This app is so fun! I love the cats, but you c...         1\n",
       "796    I love this game. it is so addicting and easy ...         1"
      ]
     },
     "execution_count": 7,
     "metadata": {},
     "output_type": "execute_result"
    }
   ],
   "source": [
    "amazon.sample(10)"
   ]
  },
  {
   "cell_type": "code",
   "execution_count": null,
   "id": "ebc4d456-1129-4735-8c4c-cf05aff25978",
   "metadata": {
    "tags": []
   },
   "outputs": [],
   "source": [
    "amazon.columns"
   ]
  },
  {
   "cell_type": "code",
   "execution_count": 8,
   "id": "8e9f8abd-4278-4c18-8926-050fb9c07178",
   "metadata": {
    "tags": []
   },
   "outputs": [
    {
     "data": {
      "text/plain": [
       "Positive\n",
       "1    15233\n",
       "0     4767\n",
       "Name: count, dtype: int64"
      ]
     },
     "execution_count": 8,
     "metadata": {},
     "output_type": "execute_result"
    }
   ],
   "source": [
    "amazon['Positive'].value_counts()"
   ]
  },
  {
   "cell_type": "code",
   "execution_count": null,
   "id": "572b22e9-c0c1-4516-9ac7-654feb9ef275",
   "metadata": {
    "tags": []
   },
   "outputs": [],
   "source": [
    "positive_count = amazon['Positive'].value_counts()[1]\n",
    "negative_count = amazon['Positive'].value_counts()[0]\n",
    "print(positive_count)\n",
    "print(negative_count)"
   ]
  },
  {
   "cell_type": "code",
   "execution_count": 9,
   "id": "6c584764-a643-4614-8216-1f1a64b3355b",
   "metadata": {
    "tags": []
   },
   "outputs": [
    {
     "name": "stdout",
     "output_type": "stream",
     "text": [
      "Positive\n",
      "1    0.76165\n",
      "0    0.23835\n",
      "Name: proportion, dtype: float64\n"
     ]
    }
   ],
   "source": [
    "positive_count = amazon['Positive'].value_counts(normalize=True)\n",
    "print(positive_count)"
   ]
  },
  {
   "cell_type": "code",
   "execution_count": 13,
   "id": "52218a71-1e96-4b4e-be8c-f4cd352d38c1",
   "metadata": {
    "tags": []
   },
   "outputs": [
    {
     "data": {
      "text/html": [
       "<div>\n",
       "<style scoped>\n",
       "    .dataframe tbody tr th:only-of-type {\n",
       "        vertical-align: middle;\n",
       "    }\n",
       "\n",
       "    .dataframe tbody tr th {\n",
       "        vertical-align: top;\n",
       "    }\n",
       "\n",
       "    .dataframe thead th {\n",
       "        text-align: right;\n",
       "    }\n",
       "</style>\n",
       "<table border=\"1\" class=\"dataframe\">\n",
       "  <thead>\n",
       "    <tr style=\"text-align: right;\">\n",
       "      <th></th>\n",
       "      <th>reviewText</th>\n",
       "      <th>Positive</th>\n",
       "    </tr>\n",
       "  </thead>\n",
       "  <tbody>\n",
       "    <tr>\n",
       "      <th>0</th>\n",
       "      <td>This is a one of the best apps acording to a b...</td>\n",
       "      <td>1</td>\n",
       "    </tr>\n",
       "    <tr>\n",
       "      <th>6</th>\n",
       "      <td>this is awesome and you don't need wi ti to pl...</td>\n",
       "      <td>1</td>\n",
       "    </tr>\n",
       "    <tr>\n",
       "      <th>9</th>\n",
       "      <td>this is by far the best free app that is avail...</td>\n",
       "      <td>1</td>\n",
       "    </tr>\n",
       "    <tr>\n",
       "      <th>14</th>\n",
       "      <td>this is one of the best apps in the world alon...</td>\n",
       "      <td>1</td>\n",
       "    </tr>\n",
       "    <tr>\n",
       "      <th>17</th>\n",
       "      <td>This is the best app ever. It makes it way eas...</td>\n",
       "      <td>1</td>\n",
       "    </tr>\n",
       "    <tr>\n",
       "      <th>...</th>\n",
       "      <td>...</td>\n",
       "      <td>...</td>\n",
       "    </tr>\n",
       "    <tr>\n",
       "      <th>19983</th>\n",
       "      <td>I love this game so much that I play it every ...</td>\n",
       "      <td>1</td>\n",
       "    </tr>\n",
       "    <tr>\n",
       "      <th>19992</th>\n",
       "      <td>I love this app! cant get enough of it. its al...</td>\n",
       "      <td>1</td>\n",
       "    </tr>\n",
       "    <tr>\n",
       "      <th>19993</th>\n",
       "      <td>If I could rate 1,000,000,000,000,000,000,000 ...</td>\n",
       "      <td>1</td>\n",
       "    </tr>\n",
       "    <tr>\n",
       "      <th>19995</th>\n",
       "      <td>this app is fricken stupid.it froze on the kin...</td>\n",
       "      <td>0</td>\n",
       "    </tr>\n",
       "    <tr>\n",
       "      <th>19998</th>\n",
       "      <td>I love love love this app on my side of fashio...</td>\n",
       "      <td>1</td>\n",
       "    </tr>\n",
       "  </tbody>\n",
       "</table>\n",
       "<p>9486 rows × 2 columns</p>\n",
       "</div>"
      ],
      "text/plain": [
       "                                              reviewText  Positive\n",
       "0      This is a one of the best apps acording to a b...         1\n",
       "6      this is awesome and you don't need wi ti to pl...         1\n",
       "9      this is by far the best free app that is avail...         1\n",
       "14     this is one of the best apps in the world alon...         1\n",
       "17     This is the best app ever. It makes it way eas...         1\n",
       "...                                                  ...       ...\n",
       "19983  I love this game so much that I play it every ...         1\n",
       "19992  I love this app! cant get enough of it. its al...         1\n",
       "19993  If I could rate 1,000,000,000,000,000,000,000 ...         1\n",
       "19995  this app is fricken stupid.it froze on the kin...         0\n",
       "19998  I love love love this app on my side of fashio...         1\n",
       "\n",
       "[9486 rows x 2 columns]"
      ]
     },
     "execution_count": 13,
     "metadata": {},
     "output_type": "execute_result"
    }
   ],
   "source": [
    "#1 app\n",
    "recensioni_app = amazon.reviewText.str.contains('app') | amazon.reviewText.str.contains('App')\n",
    "amazon.loc[recensioni_app]"
   ]
  },
  {
   "cell_type": "code",
   "execution_count": 12,
   "id": "bbfda498-9977-4fd1-b2f5-4af5dd69b424",
   "metadata": {
    "tags": []
   },
   "outputs": [
    {
     "data": {
      "text/plain": [
       "reviewText    This is a one of the best apps acording to a b...\n",
       "Positive                                                   7198\n",
       "dtype: object"
      ]
     },
     "execution_count": 12,
     "metadata": {},
     "output_type": "execute_result"
    }
   ],
   "source": [
    "#re sta per regular expression\n",
    "import re\n",
    "app = amazon.reviewText.str.contains(\"app\", flags = re.IGNORECASE)\n",
    "amazon.loc[app].sum()"
   ]
  },
  {
   "cell_type": "code",
   "execution_count": 18,
   "id": "b3a70a34-d29e-4811-b375-f9902f52e840",
   "metadata": {
    "tags": []
   },
   "outputs": [
    {
     "data": {
      "text/plain": [
       "reviewText\n",
       "False    10392\n",
       "True      9608\n",
       "Name: count, dtype: int64"
      ]
     },
     "execution_count": 18,
     "metadata": {},
     "output_type": "execute_result"
    }
   ],
   "source": [
    "app.value_counts()"
   ]
  },
  {
   "cell_type": "code",
   "execution_count": 16,
   "id": "8accdb98-aac1-4e62-a6f8-66ad030f7e0c",
   "metadata": {
    "tags": []
   },
   "outputs": [
    {
     "data": {
      "text/plain": [
       "reviewText\n",
       "False    20000\n",
       "Name: count, dtype: int64"
      ]
     },
     "execution_count": 16,
     "metadata": {},
     "output_type": "execute_result"
    }
   ],
   "source": [
    "#2 giochi\n",
    "recensioni_giochi = amazon.reviewText.str.contains('giochi','game')\n",
    "recensioni_giochi.value_counts()"
   ]
  },
  {
   "cell_type": "code",
   "execution_count": null,
   "id": "a203e51e-a7e4-42e9-85e9-9ea361d4fcdd",
   "metadata": {
    "tags": []
   },
   "outputs": [],
   "source": [
    "#3 4 e 5 quante recensioni raccomandano il prodotto e quante no - stampa esempi"
   ]
  },
  {
   "cell_type": "code",
   "execution_count": null,
   "id": "302df724-3161-43c1-8940-207765a4e321",
   "metadata": {
    "tags": []
   },
   "outputs": [],
   "source": [
    "#5 più positive\n",
    "kindle1 = amazon.reviewText.str.contains('kindle')\n",
    "kindle1.value_counts()"
   ]
  },
  {
   "cell_type": "code",
   "execution_count": null,
   "id": "71a60333-eeec-49e0-93b7-98b82f539451",
   "metadata": {
    "tags": []
   },
   "outputs": [],
   "source": [
    "kindle2 = amazon.Positive == 1\n",
    "filtro = kindle1 & kindle2"
   ]
  },
  {
   "cell_type": "code",
   "execution_count": null,
   "id": "c67663ed-e369-4e04-975e-c59852cb0c2a",
   "metadata": {
    "tags": []
   },
   "outputs": [],
   "source": [
    "kindle_positive = amazon.loc[filtro]\n",
    "kindle_positive.Positive.value_counts()"
   ]
  },
  {
   "cell_type": "code",
   "execution_count": 14,
   "id": "53ecae25-cc13-4272-aee2-78e7acc3c101",
   "metadata": {
    "tags": []
   },
   "outputs": [],
   "source": [
    "file_path=\"C:\\\\Users\\\\Flavia\\\\Desktop\\\\4 MODULO\\\\Database di prova\\\\diabetes.csv\"\n",
    "diabete=pd.read_csv(file_path)"
   ]
  },
  {
   "cell_type": "code",
   "execution_count": 15,
   "id": "7b93c4f5-1c7d-40c8-b017-5bf721f9f756",
   "metadata": {
    "tags": []
   },
   "outputs": [
    {
     "data": {
      "text/plain": [
       "(768, 9)"
      ]
     },
     "execution_count": 15,
     "metadata": {},
     "output_type": "execute_result"
    }
   ],
   "source": [
    "#1\n",
    "diabete.shape"
   ]
  },
  {
   "cell_type": "code",
   "execution_count": null,
   "id": "dc69257a-9f7a-4889-8e13-e639295cf75f",
   "metadata": {
    "tags": []
   },
   "outputs": [],
   "source": [
    "#1\n",
    "diabete.head(5)"
   ]
  },
  {
   "cell_type": "code",
   "execution_count": 20,
   "id": "519936bc-ab98-441b-bccb-010cd8164d6e",
   "metadata": {
    "tags": []
   },
   "outputs": [
    {
     "name": "stdout",
     "output_type": "stream",
     "text": [
      "<class 'pandas.core.frame.DataFrame'>\n",
      "RangeIndex: 768 entries, 0 to 767\n",
      "Data columns (total 9 columns):\n",
      " #   Column                                                                    Non-Null Count  Dtype  \n",
      "---  ------                                                                    --------------  -----  \n",
      " 0   Number of times pregnant                                                  768 non-null    int64  \n",
      " 1   Plasma glucose concentration a 2 hours in an oral glucose tolerance test  768 non-null    int64  \n",
      " 2   Diastolic blood pressure (mm Hg)                                          768 non-null    int64  \n",
      " 3   Triceps skin fold thickness (mm)                                          768 non-null    int64  \n",
      " 4   2-Hour serum insulin (mu U/ml)                                            768 non-null    int64  \n",
      " 5   Body mass index (weight in kg/(height in m)^2)                            768 non-null    float64\n",
      " 6   Diabetes pedigree function                                                768 non-null    float64\n",
      " 7   Age (years)                                                               768 non-null    int64  \n",
      " 8   Class variable                                                            768 non-null    int64  \n",
      "dtypes: float64(2), int64(7)\n",
      "memory usage: 54.1 KB\n"
     ]
    }
   ],
   "source": [
    "#2\n",
    "diabete.info()"
   ]
  },
  {
   "cell_type": "code",
   "execution_count": 19,
   "id": "26eff92f-def6-40d1-a4a0-b80002a3c19d",
   "metadata": {
    "tags": []
   },
   "outputs": [
    {
     "data": {
      "text/html": [
       "<div>\n",
       "<style scoped>\n",
       "    .dataframe tbody tr th:only-of-type {\n",
       "        vertical-align: middle;\n",
       "    }\n",
       "\n",
       "    .dataframe tbody tr th {\n",
       "        vertical-align: top;\n",
       "    }\n",
       "\n",
       "    .dataframe thead th {\n",
       "        text-align: right;\n",
       "    }\n",
       "</style>\n",
       "<table border=\"1\" class=\"dataframe\">\n",
       "  <thead>\n",
       "    <tr style=\"text-align: right;\">\n",
       "      <th></th>\n",
       "      <th>Number of times pregnant</th>\n",
       "      <th>Plasma glucose concentration a 2 hours in an oral glucose tolerance test</th>\n",
       "      <th>Diastolic blood pressure (mm Hg)</th>\n",
       "      <th>Triceps skin fold thickness (mm)</th>\n",
       "      <th>2-Hour serum insulin (mu U/ml)</th>\n",
       "      <th>Body mass index (weight in kg/(height in m)^2)</th>\n",
       "      <th>Diabetes pedigree function</th>\n",
       "      <th>Age (years)</th>\n",
       "      <th>Class variable</th>\n",
       "    </tr>\n",
       "  </thead>\n",
       "  <tbody>\n",
       "    <tr>\n",
       "      <th>count</th>\n",
       "      <td>768.000000</td>\n",
       "      <td>768.000000</td>\n",
       "      <td>768.000000</td>\n",
       "      <td>768.000000</td>\n",
       "      <td>768.000000</td>\n",
       "      <td>768.000000</td>\n",
       "      <td>768.000000</td>\n",
       "      <td>768.000000</td>\n",
       "      <td>768.000000</td>\n",
       "    </tr>\n",
       "    <tr>\n",
       "      <th>mean</th>\n",
       "      <td>3.845052</td>\n",
       "      <td>120.894531</td>\n",
       "      <td>69.105469</td>\n",
       "      <td>20.536458</td>\n",
       "      <td>79.799479</td>\n",
       "      <td>31.992578</td>\n",
       "      <td>0.471876</td>\n",
       "      <td>33.240885</td>\n",
       "      <td>0.348958</td>\n",
       "    </tr>\n",
       "    <tr>\n",
       "      <th>std</th>\n",
       "      <td>3.369578</td>\n",
       "      <td>31.972618</td>\n",
       "      <td>19.355807</td>\n",
       "      <td>15.952218</td>\n",
       "      <td>115.244002</td>\n",
       "      <td>7.884160</td>\n",
       "      <td>0.331329</td>\n",
       "      <td>11.760232</td>\n",
       "      <td>0.476951</td>\n",
       "    </tr>\n",
       "    <tr>\n",
       "      <th>min</th>\n",
       "      <td>0.000000</td>\n",
       "      <td>0.000000</td>\n",
       "      <td>0.000000</td>\n",
       "      <td>0.000000</td>\n",
       "      <td>0.000000</td>\n",
       "      <td>0.000000</td>\n",
       "      <td>0.078000</td>\n",
       "      <td>21.000000</td>\n",
       "      <td>0.000000</td>\n",
       "    </tr>\n",
       "    <tr>\n",
       "      <th>25%</th>\n",
       "      <td>1.000000</td>\n",
       "      <td>99.000000</td>\n",
       "      <td>62.000000</td>\n",
       "      <td>0.000000</td>\n",
       "      <td>0.000000</td>\n",
       "      <td>27.300000</td>\n",
       "      <td>0.243750</td>\n",
       "      <td>24.000000</td>\n",
       "      <td>0.000000</td>\n",
       "    </tr>\n",
       "    <tr>\n",
       "      <th>50%</th>\n",
       "      <td>3.000000</td>\n",
       "      <td>117.000000</td>\n",
       "      <td>72.000000</td>\n",
       "      <td>23.000000</td>\n",
       "      <td>30.500000</td>\n",
       "      <td>32.000000</td>\n",
       "      <td>0.372500</td>\n",
       "      <td>29.000000</td>\n",
       "      <td>0.000000</td>\n",
       "    </tr>\n",
       "    <tr>\n",
       "      <th>75%</th>\n",
       "      <td>6.000000</td>\n",
       "      <td>140.250000</td>\n",
       "      <td>80.000000</td>\n",
       "      <td>32.000000</td>\n",
       "      <td>127.250000</td>\n",
       "      <td>36.600000</td>\n",
       "      <td>0.626250</td>\n",
       "      <td>41.000000</td>\n",
       "      <td>1.000000</td>\n",
       "    </tr>\n",
       "    <tr>\n",
       "      <th>max</th>\n",
       "      <td>17.000000</td>\n",
       "      <td>199.000000</td>\n",
       "      <td>122.000000</td>\n",
       "      <td>99.000000</td>\n",
       "      <td>846.000000</td>\n",
       "      <td>67.100000</td>\n",
       "      <td>2.420000</td>\n",
       "      <td>81.000000</td>\n",
       "      <td>1.000000</td>\n",
       "    </tr>\n",
       "  </tbody>\n",
       "</table>\n",
       "</div>"
      ],
      "text/plain": [
       "       Number of times pregnant  \\\n",
       "count                768.000000   \n",
       "mean                   3.845052   \n",
       "std                    3.369578   \n",
       "min                    0.000000   \n",
       "25%                    1.000000   \n",
       "50%                    3.000000   \n",
       "75%                    6.000000   \n",
       "max                   17.000000   \n",
       "\n",
       "       Plasma glucose concentration a 2 hours in an oral glucose tolerance test  \\\n",
       "count                                         768.000000                          \n",
       "mean                                          120.894531                          \n",
       "std                                            31.972618                          \n",
       "min                                             0.000000                          \n",
       "25%                                            99.000000                          \n",
       "50%                                           117.000000                          \n",
       "75%                                           140.250000                          \n",
       "max                                           199.000000                          \n",
       "\n",
       "       Diastolic blood pressure (mm Hg)  Triceps skin fold thickness (mm)  \\\n",
       "count                        768.000000                        768.000000   \n",
       "mean                          69.105469                         20.536458   \n",
       "std                           19.355807                         15.952218   \n",
       "min                            0.000000                          0.000000   \n",
       "25%                           62.000000                          0.000000   \n",
       "50%                           72.000000                         23.000000   \n",
       "75%                           80.000000                         32.000000   \n",
       "max                          122.000000                         99.000000   \n",
       "\n",
       "       2-Hour serum insulin (mu U/ml)  \\\n",
       "count                      768.000000   \n",
       "mean                        79.799479   \n",
       "std                        115.244002   \n",
       "min                          0.000000   \n",
       "25%                          0.000000   \n",
       "50%                         30.500000   \n",
       "75%                        127.250000   \n",
       "max                        846.000000   \n",
       "\n",
       "       Body mass index (weight in kg/(height in m)^2)  \\\n",
       "count                                      768.000000   \n",
       "mean                                        31.992578   \n",
       "std                                          7.884160   \n",
       "min                                          0.000000   \n",
       "25%                                         27.300000   \n",
       "50%                                         32.000000   \n",
       "75%                                         36.600000   \n",
       "max                                         67.100000   \n",
       "\n",
       "       Diabetes pedigree function  Age (years)  Class variable  \n",
       "count                  768.000000   768.000000      768.000000  \n",
       "mean                     0.471876    33.240885        0.348958  \n",
       "std                      0.331329    11.760232        0.476951  \n",
       "min                      0.078000    21.000000        0.000000  \n",
       "25%                      0.243750    24.000000        0.000000  \n",
       "50%                      0.372500    29.000000        0.000000  \n",
       "75%                      0.626250    41.000000        1.000000  \n",
       "max                      2.420000    81.000000        1.000000  "
      ]
     },
     "execution_count": 19,
     "metadata": {},
     "output_type": "execute_result"
    }
   ],
   "source": [
    "#3\n",
    "diabete.describe()"
   ]
  },
  {
   "cell_type": "code",
   "execution_count": 22,
   "id": "d9991a31-ad93-401c-a20e-05f368af1fdf",
   "metadata": {
    "tags": []
   },
   "outputs": [],
   "source": [
    "#4\n",
    "meno_20 = (diabete['Age (years)'] <20) \n",
    "v20_30 = (diabete['Age (years)'] >= 20) & (diabete['Age (years)'] <30)\n",
    "v30_40 = (diabete['Age (years)'] >= 30) & (diabete['Age (years)'] <40)\n",
    "v40_50 = (diabete['Age (years)'] >= 40) & (diabete['Age (years)'] <50)\n",
    "piu_50 = (diabete['Age (years)'] >= 50)"
   ]
  },
  {
   "cell_type": "code",
   "execution_count": 23,
   "id": "34a7c757-0012-4c84-8407-052677b117ab",
   "metadata": {
    "tags": []
   },
   "outputs": [
    {
     "data": {
      "text/html": [
       "<div>\n",
       "<style scoped>\n",
       "    .dataframe tbody tr th:only-of-type {\n",
       "        vertical-align: middle;\n",
       "    }\n",
       "\n",
       "    .dataframe tbody tr th {\n",
       "        vertical-align: top;\n",
       "    }\n",
       "\n",
       "    .dataframe thead th {\n",
       "        text-align: right;\n",
       "    }\n",
       "</style>\n",
       "<table border=\"1\" class=\"dataframe\">\n",
       "  <thead>\n",
       "    <tr style=\"text-align: right;\">\n",
       "      <th></th>\n",
       "      <th>Number of times pregnant</th>\n",
       "      <th>Plasma glucose concentration a 2 hours in an oral glucose tolerance test</th>\n",
       "      <th>Diastolic blood pressure (mm Hg)</th>\n",
       "      <th>Triceps skin fold thickness (mm)</th>\n",
       "      <th>2-Hour serum insulin (mu U/ml)</th>\n",
       "      <th>Body mass index (weight in kg/(height in m)^2)</th>\n",
       "      <th>Diabetes pedigree function</th>\n",
       "      <th>Age (years)</th>\n",
       "      <th>Class variable</th>\n",
       "    </tr>\n",
       "  </thead>\n",
       "  <tbody>\n",
       "    <tr>\n",
       "      <th>3</th>\n",
       "      <td>1</td>\n",
       "      <td>89</td>\n",
       "      <td>66</td>\n",
       "      <td>23</td>\n",
       "      <td>94</td>\n",
       "      <td>28.1</td>\n",
       "      <td>0.167</td>\n",
       "      <td>21</td>\n",
       "      <td>0</td>\n",
       "    </tr>\n",
       "    <tr>\n",
       "      <th>6</th>\n",
       "      <td>3</td>\n",
       "      <td>78</td>\n",
       "      <td>50</td>\n",
       "      <td>32</td>\n",
       "      <td>88</td>\n",
       "      <td>31.0</td>\n",
       "      <td>0.248</td>\n",
       "      <td>26</td>\n",
       "      <td>1</td>\n",
       "    </tr>\n",
       "    <tr>\n",
       "      <th>7</th>\n",
       "      <td>10</td>\n",
       "      <td>115</td>\n",
       "      <td>0</td>\n",
       "      <td>0</td>\n",
       "      <td>0</td>\n",
       "      <td>35.3</td>\n",
       "      <td>0.134</td>\n",
       "      <td>29</td>\n",
       "      <td>0</td>\n",
       "    </tr>\n",
       "    <tr>\n",
       "      <th>20</th>\n",
       "      <td>3</td>\n",
       "      <td>126</td>\n",
       "      <td>88</td>\n",
       "      <td>41</td>\n",
       "      <td>235</td>\n",
       "      <td>39.3</td>\n",
       "      <td>0.704</td>\n",
       "      <td>27</td>\n",
       "      <td>0</td>\n",
       "    </tr>\n",
       "    <tr>\n",
       "      <th>23</th>\n",
       "      <td>9</td>\n",
       "      <td>119</td>\n",
       "      <td>80</td>\n",
       "      <td>35</td>\n",
       "      <td>0</td>\n",
       "      <td>29.0</td>\n",
       "      <td>0.263</td>\n",
       "      <td>29</td>\n",
       "      <td>1</td>\n",
       "    </tr>\n",
       "    <tr>\n",
       "      <th>...</th>\n",
       "      <td>...</td>\n",
       "      <td>...</td>\n",
       "      <td>...</td>\n",
       "      <td>...</td>\n",
       "      <td>...</td>\n",
       "      <td>...</td>\n",
       "      <td>...</td>\n",
       "      <td>...</td>\n",
       "      <td>...</td>\n",
       "    </tr>\n",
       "    <tr>\n",
       "      <th>753</th>\n",
       "      <td>0</td>\n",
       "      <td>181</td>\n",
       "      <td>88</td>\n",
       "      <td>44</td>\n",
       "      <td>510</td>\n",
       "      <td>43.3</td>\n",
       "      <td>0.222</td>\n",
       "      <td>26</td>\n",
       "      <td>1</td>\n",
       "    </tr>\n",
       "    <tr>\n",
       "      <th>758</th>\n",
       "      <td>1</td>\n",
       "      <td>106</td>\n",
       "      <td>76</td>\n",
       "      <td>0</td>\n",
       "      <td>0</td>\n",
       "      <td>37.5</td>\n",
       "      <td>0.197</td>\n",
       "      <td>26</td>\n",
       "      <td>0</td>\n",
       "    </tr>\n",
       "    <tr>\n",
       "      <th>760</th>\n",
       "      <td>2</td>\n",
       "      <td>88</td>\n",
       "      <td>58</td>\n",
       "      <td>26</td>\n",
       "      <td>16</td>\n",
       "      <td>28.4</td>\n",
       "      <td>0.766</td>\n",
       "      <td>22</td>\n",
       "      <td>0</td>\n",
       "    </tr>\n",
       "    <tr>\n",
       "      <th>764</th>\n",
       "      <td>2</td>\n",
       "      <td>122</td>\n",
       "      <td>70</td>\n",
       "      <td>27</td>\n",
       "      <td>0</td>\n",
       "      <td>36.8</td>\n",
       "      <td>0.340</td>\n",
       "      <td>27</td>\n",
       "      <td>0</td>\n",
       "    </tr>\n",
       "    <tr>\n",
       "      <th>767</th>\n",
       "      <td>1</td>\n",
       "      <td>93</td>\n",
       "      <td>70</td>\n",
       "      <td>31</td>\n",
       "      <td>0</td>\n",
       "      <td>30.4</td>\n",
       "      <td>0.315</td>\n",
       "      <td>23</td>\n",
       "      <td>0</td>\n",
       "    </tr>\n",
       "  </tbody>\n",
       "</table>\n",
       "<p>396 rows × 9 columns</p>\n",
       "</div>"
      ],
      "text/plain": [
       "     Number of times pregnant  \\\n",
       "3                           1   \n",
       "6                           3   \n",
       "7                          10   \n",
       "20                          3   \n",
       "23                          9   \n",
       "..                        ...   \n",
       "753                         0   \n",
       "758                         1   \n",
       "760                         2   \n",
       "764                         2   \n",
       "767                         1   \n",
       "\n",
       "     Plasma glucose concentration a 2 hours in an oral glucose tolerance test  \\\n",
       "3                                                   89                          \n",
       "6                                                   78                          \n",
       "7                                                  115                          \n",
       "20                                                 126                          \n",
       "23                                                 119                          \n",
       "..                                                 ...                          \n",
       "753                                                181                          \n",
       "758                                                106                          \n",
       "760                                                 88                          \n",
       "764                                                122                          \n",
       "767                                                 93                          \n",
       "\n",
       "     Diastolic blood pressure (mm Hg)  Triceps skin fold thickness (mm)  \\\n",
       "3                                  66                                23   \n",
       "6                                  50                                32   \n",
       "7                                   0                                 0   \n",
       "20                                 88                                41   \n",
       "23                                 80                                35   \n",
       "..                                ...                               ...   \n",
       "753                                88                                44   \n",
       "758                                76                                 0   \n",
       "760                                58                                26   \n",
       "764                                70                                27   \n",
       "767                                70                                31   \n",
       "\n",
       "     2-Hour serum insulin (mu U/ml)  \\\n",
       "3                                94   \n",
       "6                                88   \n",
       "7                                 0   \n",
       "20                              235   \n",
       "23                                0   \n",
       "..                              ...   \n",
       "753                             510   \n",
       "758                               0   \n",
       "760                              16   \n",
       "764                               0   \n",
       "767                               0   \n",
       "\n",
       "     Body mass index (weight in kg/(height in m)^2)  \\\n",
       "3                                              28.1   \n",
       "6                                              31.0   \n",
       "7                                              35.3   \n",
       "20                                             39.3   \n",
       "23                                             29.0   \n",
       "..                                              ...   \n",
       "753                                            43.3   \n",
       "758                                            37.5   \n",
       "760                                            28.4   \n",
       "764                                            36.8   \n",
       "767                                            30.4   \n",
       "\n",
       "     Diabetes pedigree function  Age (years)  Class variable  \n",
       "3                         0.167           21               0  \n",
       "6                         0.248           26               1  \n",
       "7                         0.134           29               0  \n",
       "20                        0.704           27               0  \n",
       "23                        0.263           29               1  \n",
       "..                          ...          ...             ...  \n",
       "753                       0.222           26               1  \n",
       "758                       0.197           26               0  \n",
       "760                       0.766           22               0  \n",
       "764                       0.340           27               0  \n",
       "767                       0.315           23               0  \n",
       "\n",
       "[396 rows x 9 columns]"
      ]
     },
     "execution_count": 23,
     "metadata": {},
     "output_type": "execute_result"
    }
   ],
   "source": [
    "diabete.loc[v20_30]"
   ]
  },
  {
   "cell_type": "code",
   "execution_count": 24,
   "id": "4b413bb6-82dd-47bc-b82b-8382ce0b186d",
   "metadata": {
    "tags": []
   },
   "outputs": [
    {
     "name": "stdout",
     "output_type": "stream",
     "text": [
      "65.34848484848484\n"
     ]
    }
   ],
   "source": [
    "media_diastolic_pressure = diabete.loc[v20_30]['Diastolic blood pressure (mm Hg)'].mean()\n",
    "print(media_diastolic_pressure)"
   ]
  },
  {
   "cell_type": "code",
   "execution_count": 25,
   "id": "922778f6-d869-41f7-8b79-e274cfc5a0b8",
   "metadata": {
    "tags": []
   },
   "outputs": [
    {
     "data": {
      "text/plain": [
       "Age (years)\n",
       "21    65.936508\n",
       "22    63.722222\n",
       "23    64.315789\n",
       "24    64.956522\n",
       "25    59.666667\n",
       "26    64.181818\n",
       "27    73.500000\n",
       "28    68.314286\n",
       "29    68.241379\n",
       "30    64.857143\n",
       "31    64.375000\n",
       "32    70.062500\n",
       "33    65.647059\n",
       "34    74.000000\n",
       "35    75.600000\n",
       "36    69.125000\n",
       "37    75.947368\n",
       "38    71.125000\n",
       "39    72.666667\n",
       "40    69.230769\n",
       "41    67.590909\n",
       "42    73.388889\n",
       "43    78.461538\n",
       "44    61.750000\n",
       "45    83.066667\n",
       "46    76.000000\n",
       "47    78.333333\n",
       "48    78.400000\n",
       "49    81.400000\n",
       "50    78.250000\n",
       "51    84.500000\n",
       "52    81.500000\n",
       "53    79.000000\n",
       "54    89.333333\n",
       "55    70.250000\n",
       "56    76.333333\n",
       "57    76.800000\n",
       "58    78.285714\n",
       "59    74.000000\n",
       "60    80.000000\n",
       "61    76.000000\n",
       "62    71.500000\n",
       "63    78.000000\n",
       "64    78.000000\n",
       "65    78.666667\n",
       "66    86.000000\n",
       "67    72.666667\n",
       "68    82.000000\n",
       "69    81.000000\n",
       "70    82.000000\n",
       "72     0.000000\n",
       "81    74.000000\n",
       "Name: Diastolic blood pressure (mm Hg), dtype: float64"
      ]
     },
     "execution_count": 25,
     "metadata": {},
     "output_type": "execute_result"
    }
   ],
   "source": [
    "#raggruppa la colonna tra (colonna da raggruppare) per avere i dati della [select dell'aggregazione].funzione da applicare\n",
    "diabete.groupby('Age (years)')['Diastolic blood pressure (mm Hg)'].mean()"
   ]
  },
  {
   "cell_type": "code",
   "execution_count": 28,
   "id": "2185cf9a-9d3d-4443-ace8-5f501cabe437",
   "metadata": {
    "tags": []
   },
   "outputs": [],
   "source": [
    "def agerange(age):\n",
    "    if 20<=age<35:\n",
    "        return '20-35'\n",
    "    elif 35<age<50:\n",
    "        return '35-50'\n",
    "    else:\n",
    "        return \"50+\"\n",
    "\n",
    "diabete[\"agerange\"] = diabete['Age (years)'].apply(agerange)"
   ]
  },
  {
   "cell_type": "code",
   "execution_count": 29,
   "id": "7e5bc817-06c9-49ae-939c-20f7f7942400",
   "metadata": {
    "tags": []
   },
   "outputs": [
    {
     "data": {
      "text/html": [
       "<div>\n",
       "<style scoped>\n",
       "    .dataframe tbody tr th:only-of-type {\n",
       "        vertical-align: middle;\n",
       "    }\n",
       "\n",
       "    .dataframe tbody tr th {\n",
       "        vertical-align: top;\n",
       "    }\n",
       "\n",
       "    .dataframe thead th {\n",
       "        text-align: right;\n",
       "    }\n",
       "</style>\n",
       "<table border=\"1\" class=\"dataframe\">\n",
       "  <thead>\n",
       "    <tr style=\"text-align: right;\">\n",
       "      <th></th>\n",
       "      <th>Number of times pregnant</th>\n",
       "      <th>Plasma glucose concentration a 2 hours in an oral glucose tolerance test</th>\n",
       "      <th>Diastolic blood pressure (mm Hg)</th>\n",
       "      <th>Triceps skin fold thickness (mm)</th>\n",
       "      <th>2-Hour serum insulin (mu U/ml)</th>\n",
       "      <th>Body mass index (weight in kg/(height in m)^2)</th>\n",
       "      <th>Diabetes pedigree function</th>\n",
       "      <th>Age (years)</th>\n",
       "      <th>Class variable</th>\n",
       "      <th>agerange</th>\n",
       "    </tr>\n",
       "  </thead>\n",
       "  <tbody>\n",
       "    <tr>\n",
       "      <th>0</th>\n",
       "      <td>6</td>\n",
       "      <td>148</td>\n",
       "      <td>72</td>\n",
       "      <td>35</td>\n",
       "      <td>0</td>\n",
       "      <td>33.6</td>\n",
       "      <td>0.627</td>\n",
       "      <td>50</td>\n",
       "      <td>1</td>\n",
       "      <td>50+</td>\n",
       "    </tr>\n",
       "    <tr>\n",
       "      <th>1</th>\n",
       "      <td>1</td>\n",
       "      <td>85</td>\n",
       "      <td>66</td>\n",
       "      <td>29</td>\n",
       "      <td>0</td>\n",
       "      <td>26.6</td>\n",
       "      <td>0.351</td>\n",
       "      <td>31</td>\n",
       "      <td>0</td>\n",
       "      <td>20-35</td>\n",
       "    </tr>\n",
       "    <tr>\n",
       "      <th>2</th>\n",
       "      <td>8</td>\n",
       "      <td>183</td>\n",
       "      <td>64</td>\n",
       "      <td>0</td>\n",
       "      <td>0</td>\n",
       "      <td>23.3</td>\n",
       "      <td>0.672</td>\n",
       "      <td>32</td>\n",
       "      <td>1</td>\n",
       "      <td>20-35</td>\n",
       "    </tr>\n",
       "    <tr>\n",
       "      <th>3</th>\n",
       "      <td>1</td>\n",
       "      <td>89</td>\n",
       "      <td>66</td>\n",
       "      <td>23</td>\n",
       "      <td>94</td>\n",
       "      <td>28.1</td>\n",
       "      <td>0.167</td>\n",
       "      <td>21</td>\n",
       "      <td>0</td>\n",
       "      <td>20-35</td>\n",
       "    </tr>\n",
       "    <tr>\n",
       "      <th>4</th>\n",
       "      <td>0</td>\n",
       "      <td>137</td>\n",
       "      <td>40</td>\n",
       "      <td>35</td>\n",
       "      <td>168</td>\n",
       "      <td>43.1</td>\n",
       "      <td>2.288</td>\n",
       "      <td>33</td>\n",
       "      <td>1</td>\n",
       "      <td>20-35</td>\n",
       "    </tr>\n",
       "  </tbody>\n",
       "</table>\n",
       "</div>"
      ],
      "text/plain": [
       "   Number of times pregnant  \\\n",
       "0                         6   \n",
       "1                         1   \n",
       "2                         8   \n",
       "3                         1   \n",
       "4                         0   \n",
       "\n",
       "   Plasma glucose concentration a 2 hours in an oral glucose tolerance test  \\\n",
       "0                                                148                          \n",
       "1                                                 85                          \n",
       "2                                                183                          \n",
       "3                                                 89                          \n",
       "4                                                137                          \n",
       "\n",
       "   Diastolic blood pressure (mm Hg)  Triceps skin fold thickness (mm)  \\\n",
       "0                                72                                35   \n",
       "1                                66                                29   \n",
       "2                                64                                 0   \n",
       "3                                66                                23   \n",
       "4                                40                                35   \n",
       "\n",
       "   2-Hour serum insulin (mu U/ml)  \\\n",
       "0                               0   \n",
       "1                               0   \n",
       "2                               0   \n",
       "3                              94   \n",
       "4                             168   \n",
       "\n",
       "   Body mass index (weight in kg/(height in m)^2)  Diabetes pedigree function  \\\n",
       "0                                            33.6                       0.627   \n",
       "1                                            26.6                       0.351   \n",
       "2                                            23.3                       0.672   \n",
       "3                                            28.1                       0.167   \n",
       "4                                            43.1                       2.288   \n",
       "\n",
       "   Age (years)  Class variable agerange  \n",
       "0           50               1      50+  \n",
       "1           31               0    20-35  \n",
       "2           32               1    20-35  \n",
       "3           21               0    20-35  \n",
       "4           33               1    20-35  "
      ]
     },
     "execution_count": 29,
     "metadata": {},
     "output_type": "execute_result"
    }
   ],
   "source": [
    "diabete.head()"
   ]
  },
  {
   "cell_type": "code",
   "execution_count": 30,
   "id": "ce6c27cf-5b6e-4fea-854c-973d12d2592f",
   "metadata": {
    "tags": []
   },
   "outputs": [
    {
     "data": {
      "text/plain": [
       "agerange\n",
       "20-35    65.692623\n",
       "35-50    73.392265\n",
       "50+      78.090909\n",
       "Name: Diastolic blood pressure (mm Hg), dtype: float64"
      ]
     },
     "execution_count": 30,
     "metadata": {},
     "output_type": "execute_result"
    }
   ],
   "source": [
    "diabete.groupby('agerange')['Diastolic blood pressure (mm Hg)'].mean()"
   ]
  },
  {
   "cell_type": "code",
   "execution_count": 32,
   "id": "b0724e71-5895-4ae4-be08-e66ad890e6e4",
   "metadata": {
    "tags": []
   },
   "outputs": [],
   "source": [
    "#insurance\n",
    "file_path=\"C:\\\\Users\\\\Flavia\\\\Desktop\\\\4 MODULO\\\\Database di prova\\\\insurance.csv\"\n",
    "insurance=pd.read_csv(file_path)"
   ]
  },
  {
   "cell_type": "code",
   "execution_count": 33,
   "id": "cb3375dd-a52c-488e-b63b-0ef188b48bda",
   "metadata": {
    "tags": []
   },
   "outputs": [
    {
     "data": {
      "text/plain": [
       "(1338, 7)"
      ]
     },
     "execution_count": 33,
     "metadata": {},
     "output_type": "execute_result"
    }
   ],
   "source": [
    "#1 \n",
    "insurance.shape"
   ]
  },
  {
   "cell_type": "code",
   "execution_count": 34,
   "id": "99a6ea05-2ba8-4371-9065-361e74d6ff5b",
   "metadata": {
    "tags": []
   },
   "outputs": [
    {
     "data": {
      "text/plain": [
       "Index(['age', 'sex', 'bmi', 'children', 'smoker', 'region', 'charges'], dtype='object')"
      ]
     },
     "execution_count": 34,
     "metadata": {},
     "output_type": "execute_result"
    }
   ],
   "source": [
    "insurance.columns"
   ]
  },
  {
   "cell_type": "code",
   "execution_count": 35,
   "id": "109f1819-541e-42d6-9df0-d2dd86390465",
   "metadata": {
    "tags": []
   },
   "outputs": [
    {
     "data": {
      "text/html": [
       "<div>\n",
       "<style scoped>\n",
       "    .dataframe tbody tr th:only-of-type {\n",
       "        vertical-align: middle;\n",
       "    }\n",
       "\n",
       "    .dataframe tbody tr th {\n",
       "        vertical-align: top;\n",
       "    }\n",
       "\n",
       "    .dataframe thead th {\n",
       "        text-align: right;\n",
       "    }\n",
       "</style>\n",
       "<table border=\"1\" class=\"dataframe\">\n",
       "  <thead>\n",
       "    <tr style=\"text-align: right;\">\n",
       "      <th></th>\n",
       "      <th>age</th>\n",
       "      <th>sex</th>\n",
       "      <th>bmi</th>\n",
       "      <th>children</th>\n",
       "      <th>smoker</th>\n",
       "      <th>region</th>\n",
       "      <th>charges</th>\n",
       "    </tr>\n",
       "  </thead>\n",
       "  <tbody>\n",
       "    <tr>\n",
       "      <th>0</th>\n",
       "      <td>19</td>\n",
       "      <td>female</td>\n",
       "      <td>27.900</td>\n",
       "      <td>0</td>\n",
       "      <td>yes</td>\n",
       "      <td>southwest</td>\n",
       "      <td>16884.92400</td>\n",
       "    </tr>\n",
       "    <tr>\n",
       "      <th>1</th>\n",
       "      <td>18</td>\n",
       "      <td>male</td>\n",
       "      <td>33.770</td>\n",
       "      <td>1</td>\n",
       "      <td>no</td>\n",
       "      <td>southeast</td>\n",
       "      <td>1725.55230</td>\n",
       "    </tr>\n",
       "    <tr>\n",
       "      <th>2</th>\n",
       "      <td>28</td>\n",
       "      <td>male</td>\n",
       "      <td>33.000</td>\n",
       "      <td>3</td>\n",
       "      <td>no</td>\n",
       "      <td>southeast</td>\n",
       "      <td>4449.46200</td>\n",
       "    </tr>\n",
       "    <tr>\n",
       "      <th>3</th>\n",
       "      <td>33</td>\n",
       "      <td>male</td>\n",
       "      <td>22.705</td>\n",
       "      <td>0</td>\n",
       "      <td>no</td>\n",
       "      <td>northwest</td>\n",
       "      <td>21984.47061</td>\n",
       "    </tr>\n",
       "    <tr>\n",
       "      <th>4</th>\n",
       "      <td>32</td>\n",
       "      <td>male</td>\n",
       "      <td>28.880</td>\n",
       "      <td>0</td>\n",
       "      <td>no</td>\n",
       "      <td>northwest</td>\n",
       "      <td>3866.85520</td>\n",
       "    </tr>\n",
       "  </tbody>\n",
       "</table>\n",
       "</div>"
      ],
      "text/plain": [
       "   age     sex     bmi  children smoker     region      charges\n",
       "0   19  female  27.900         0    yes  southwest  16884.92400\n",
       "1   18    male  33.770         1     no  southeast   1725.55230\n",
       "2   28    male  33.000         3     no  southeast   4449.46200\n",
       "3   33    male  22.705         0     no  northwest  21984.47061\n",
       "4   32    male  28.880         0     no  northwest   3866.85520"
      ]
     },
     "execution_count": 35,
     "metadata": {},
     "output_type": "execute_result"
    }
   ],
   "source": [
    "insurance.head()"
   ]
  },
  {
   "cell_type": "code",
   "execution_count": 36,
   "id": "815d7015-97ae-4292-a7bc-a9ba8c2bf850",
   "metadata": {
    "tags": []
   },
   "outputs": [
    {
     "data": {
      "text/plain": [
       "region\n",
       "northeast    13406.384516\n",
       "northwest    12417.575374\n",
       "southeast    14735.411438\n",
       "southwest    12346.937377\n",
       "Name: charges, dtype: float64"
      ]
     },
     "execution_count": 36,
     "metadata": {},
     "output_type": "execute_result"
    }
   ],
   "source": [
    "insurance.groupby('region')['charges'].mean()"
   ]
  },
  {
   "cell_type": "code",
   "execution_count": 42,
   "id": "2132be4e-f2be-4ec4-b576-a0375ef92b9c",
   "metadata": {
    "tags": []
   },
   "outputs": [
    {
     "data": {
      "text/plain": [
       "region     smoker\n",
       "northeast  no        0.793210\n",
       "           yes       0.206790\n",
       "northwest  no        0.821538\n",
       "           yes       0.178462\n",
       "southeast  no        0.750000\n",
       "           yes       0.250000\n",
       "southwest  no        0.821538\n",
       "           yes       0.178462\n",
       "Name: proportion, dtype: float64"
      ]
     },
     "execution_count": 42,
     "metadata": {},
     "output_type": "execute_result"
    }
   ],
   "source": [
    "insurance.groupby('region')['smoker'].value_counts(normalize=True)"
   ]
  },
  {
   "cell_type": "code",
   "execution_count": 43,
   "id": "8ccdc206-84b0-4b76-aa28-9a7c2823d13c",
   "metadata": {
    "tags": []
   },
   "outputs": [
    {
     "data": {
      "text/plain": [
       "region     sex   \n",
       "northeast  male      0.503086\n",
       "           female    0.496914\n",
       "northwest  female    0.504615\n",
       "           male      0.495385\n",
       "southeast  male      0.519231\n",
       "           female    0.480769\n",
       "southwest  male      0.501538\n",
       "           female    0.498462\n",
       "Name: proportion, dtype: float64"
      ]
     },
     "execution_count": 43,
     "metadata": {},
     "output_type": "execute_result"
    }
   ],
   "source": [
    "insurance.groupby('region')['sex'].value_counts(normalize=True)"
   ]
  },
  {
   "cell_type": "code",
   "execution_count": 44,
   "id": "212a8f59-ae21-4c9f-8b78-53eed690935b",
   "metadata": {
    "tags": []
   },
   "outputs": [
    {
     "data": {
      "text/plain": [
       "count    1338.000000\n",
       "mean       30.663397\n",
       "std         6.098187\n",
       "min        15.960000\n",
       "25%        26.296250\n",
       "50%        30.400000\n",
       "75%        34.693750\n",
       "max        53.130000\n",
       "Name: bmi, dtype: float64"
      ]
     },
     "execution_count": 44,
     "metadata": {},
     "output_type": "execute_result"
    }
   ],
   "source": [
    "insurance.bmi.describe()"
   ]
  },
  {
   "cell_type": "code",
   "execution_count": 61,
   "id": "ba4c313f-c552-48c7-876b-0c4051615ac9",
   "metadata": {
    "tags": []
   },
   "outputs": [
    {
     "data": {
      "text/html": [
       "<div>\n",
       "<style scoped>\n",
       "    .dataframe tbody tr th:only-of-type {\n",
       "        vertical-align: middle;\n",
       "    }\n",
       "\n",
       "    .dataframe tbody tr th {\n",
       "        vertical-align: top;\n",
       "    }\n",
       "\n",
       "    .dataframe thead th {\n",
       "        text-align: right;\n",
       "    }\n",
       "</style>\n",
       "<table border=\"1\" class=\"dataframe\">\n",
       "  <thead>\n",
       "    <tr style=\"text-align: right;\">\n",
       "      <th></th>\n",
       "      <th>count</th>\n",
       "      <th>mean</th>\n",
       "      <th>std</th>\n",
       "      <th>min</th>\n",
       "      <th>25%</th>\n",
       "      <th>50%</th>\n",
       "      <th>75%</th>\n",
       "      <th>max</th>\n",
       "    </tr>\n",
       "  </thead>\n",
       "  <tbody>\n",
       "    <tr>\n",
       "      <th>count</th>\n",
       "      <td>1.000000</td>\n",
       "      <td>-0.031919</td>\n",
       "      <td>0.133599</td>\n",
       "      <td>-0.374741</td>\n",
       "      <td>-0.283616</td>\n",
       "      <td>-0.137787</td>\n",
       "      <td>0.129977</td>\n",
       "      <td>0.379203</td>\n",
       "    </tr>\n",
       "    <tr>\n",
       "      <th>mean</th>\n",
       "      <td>-0.031919</td>\n",
       "      <td>1.000000</td>\n",
       "      <td>0.801851</td>\n",
       "      <td>0.824302</td>\n",
       "      <td>0.921668</td>\n",
       "      <td>0.965657</td>\n",
       "      <td>0.952834</td>\n",
       "      <td>0.832013</td>\n",
       "    </tr>\n",
       "    <tr>\n",
       "      <th>std</th>\n",
       "      <td>0.133599</td>\n",
       "      <td>0.801851</td>\n",
       "      <td>1.000000</td>\n",
       "      <td>-0.055200</td>\n",
       "      <td>0.381744</td>\n",
       "      <td>0.610214</td>\n",
       "      <td>0.847861</td>\n",
       "      <td>0.918576</td>\n",
       "    </tr>\n",
       "    <tr>\n",
       "      <th>min</th>\n",
       "      <td>-0.374741</td>\n",
       "      <td>0.824302</td>\n",
       "      <td>-0.055200</td>\n",
       "      <td>1.000000</td>\n",
       "      <td>0.957133</td>\n",
       "      <td>0.830257</td>\n",
       "      <td>0.631326</td>\n",
       "      <td>0.409780</td>\n",
       "    </tr>\n",
       "    <tr>\n",
       "      <th>25%</th>\n",
       "      <td>-0.283616</td>\n",
       "      <td>0.921668</td>\n",
       "      <td>0.381744</td>\n",
       "      <td>0.957133</td>\n",
       "      <td>1.000000</td>\n",
       "      <td>0.944562</td>\n",
       "      <td>0.774376</td>\n",
       "      <td>0.564608</td>\n",
       "    </tr>\n",
       "    <tr>\n",
       "      <th>50%</th>\n",
       "      <td>-0.137787</td>\n",
       "      <td>0.965657</td>\n",
       "      <td>0.610214</td>\n",
       "      <td>0.830257</td>\n",
       "      <td>0.944562</td>\n",
       "      <td>1.000000</td>\n",
       "      <td>0.901354</td>\n",
       "      <td>0.716481</td>\n",
       "    </tr>\n",
       "    <tr>\n",
       "      <th>75%</th>\n",
       "      <td>0.129977</td>\n",
       "      <td>0.952834</td>\n",
       "      <td>0.847861</td>\n",
       "      <td>0.631326</td>\n",
       "      <td>0.774376</td>\n",
       "      <td>0.901354</td>\n",
       "      <td>1.000000</td>\n",
       "      <td>0.916863</td>\n",
       "    </tr>\n",
       "    <tr>\n",
       "      <th>max</th>\n",
       "      <td>0.379203</td>\n",
       "      <td>0.832013</td>\n",
       "      <td>0.918576</td>\n",
       "      <td>0.409780</td>\n",
       "      <td>0.564608</td>\n",
       "      <td>0.716481</td>\n",
       "      <td>0.916863</td>\n",
       "      <td>1.000000</td>\n",
       "    </tr>\n",
       "  </tbody>\n",
       "</table>\n",
       "</div>"
      ],
      "text/plain": [
       "          count      mean       std       min       25%       50%       75%  \\\n",
       "count  1.000000 -0.031919  0.133599 -0.374741 -0.283616 -0.137787  0.129977   \n",
       "mean  -0.031919  1.000000  0.801851  0.824302  0.921668  0.965657  0.952834   \n",
       "std    0.133599  0.801851  1.000000 -0.055200  0.381744  0.610214  0.847861   \n",
       "min   -0.374741  0.824302 -0.055200  1.000000  0.957133  0.830257  0.631326   \n",
       "25%   -0.283616  0.921668  0.381744  0.957133  1.000000  0.944562  0.774376   \n",
       "50%   -0.137787  0.965657  0.610214  0.830257  0.944562  1.000000  0.901354   \n",
       "75%    0.129977  0.952834  0.847861  0.631326  0.774376  0.901354  1.000000   \n",
       "max    0.379203  0.832013  0.918576  0.409780  0.564608  0.716481  0.916863   \n",
       "\n",
       "            max  \n",
       "count  0.379203  \n",
       "mean   0.832013  \n",
       "std    0.918576  \n",
       "min    0.409780  \n",
       "25%    0.564608  \n",
       "50%    0.716481  \n",
       "75%    0.916863  \n",
       "max    1.000000  "
      ]
     },
     "execution_count": 61,
     "metadata": {},
     "output_type": "execute_result"
    }
   ],
   "source": [
    "BMI = insurance.groupby(\"bmi\")[\"charges\"].describe()\n",
    "BMI.corr()"
   ]
  },
  {
   "cell_type": "code",
   "execution_count": 45,
   "id": "c91bd8f8-0410-4b12-bbf2-af09e9519bee",
   "metadata": {
    "tags": []
   },
   "outputs": [
    {
     "name": "stdout",
     "output_type": "stream",
     "text": [
      "\n",
      "Minimo, media e massimo di charges rispetto ai diversi quartili di bmi:\n",
      "           min          mean          max\n",
      "bmi                                      \n",
      "Q1   1121.8739  10360.662825  38245.59327\n",
      "Q2   1131.5066  11407.831468  62592.87309\n",
      "Q3   1135.9407  14358.173081  60021.39897\n",
      "Q4   1141.4451  16987.936691  63770.42801\n"
     ]
    }
   ],
   "source": [
    "charges_quartiles = pd.qcut(insurance['bmi'], q=[0, 0.25, 0.5, 0.75, 1.0], labels=['Q1', 'Q2', 'Q3', 'Q4'])\n",
    "charges_summary_by_bmi_quartiles = insurance.groupby(charges_quartiles)['charges'].agg(['min', 'mean', 'max'])\n",
    "print(\"\\nMinimo, media e massimo di charges rispetto ai diversi quartili di bmi:\")\n",
    "print(charges_summary_by_bmi_quartiles)"
   ]
  },
  {
   "cell_type": "code",
   "execution_count": 46,
   "id": "ce4ee626-c350-4f22-ba0c-e103979f1f1e",
   "metadata": {
    "tags": []
   },
   "outputs": [],
   "source": [
    "file_path=\"C:\\\\Users\\\\Flavia\\\\Desktop\\\\4 MODULO\\\\Database di prova\\\\pokemon.csv\"\n",
    "pokemon=pd.read_csv(file_path)"
   ]
  },
  {
   "cell_type": "code",
   "execution_count": 47,
   "id": "7e978e4b-a83c-4aac-9791-9cce700d7d11",
   "metadata": {},
   "outputs": [
    {
     "data": {
      "text/plain": [
       "(800, 13)"
      ]
     },
     "execution_count": 47,
     "metadata": {},
     "output_type": "execute_result"
    }
   ],
   "source": [
    "pokemon.shape"
   ]
  },
  {
   "cell_type": "code",
   "execution_count": 48,
   "id": "c805b25c-60b3-44ac-be8a-fa3e11e638fb",
   "metadata": {
    "tags": []
   },
   "outputs": [
    {
     "data": {
      "text/html": [
       "<div>\n",
       "<style scoped>\n",
       "    .dataframe tbody tr th:only-of-type {\n",
       "        vertical-align: middle;\n",
       "    }\n",
       "\n",
       "    .dataframe tbody tr th {\n",
       "        vertical-align: top;\n",
       "    }\n",
       "\n",
       "    .dataframe thead th {\n",
       "        text-align: right;\n",
       "    }\n",
       "</style>\n",
       "<table border=\"1\" class=\"dataframe\">\n",
       "  <thead>\n",
       "    <tr style=\"text-align: right;\">\n",
       "      <th></th>\n",
       "      <th>#</th>\n",
       "      <th>Name</th>\n",
       "      <th>Type 1</th>\n",
       "      <th>Type 2</th>\n",
       "      <th>Total</th>\n",
       "      <th>HP</th>\n",
       "      <th>Attack</th>\n",
       "      <th>Defense</th>\n",
       "      <th>Sp. Atk</th>\n",
       "      <th>Sp. Def</th>\n",
       "      <th>Speed</th>\n",
       "      <th>Generation</th>\n",
       "      <th>Legendary</th>\n",
       "    </tr>\n",
       "  </thead>\n",
       "  <tbody>\n",
       "    <tr>\n",
       "      <th>0</th>\n",
       "      <td>1</td>\n",
       "      <td>Bulbasaur</td>\n",
       "      <td>Grass</td>\n",
       "      <td>Poison</td>\n",
       "      <td>318</td>\n",
       "      <td>45</td>\n",
       "      <td>49</td>\n",
       "      <td>49</td>\n",
       "      <td>65</td>\n",
       "      <td>65</td>\n",
       "      <td>45</td>\n",
       "      <td>1</td>\n",
       "      <td>False</td>\n",
       "    </tr>\n",
       "    <tr>\n",
       "      <th>1</th>\n",
       "      <td>2</td>\n",
       "      <td>Ivysaur</td>\n",
       "      <td>Grass</td>\n",
       "      <td>Poison</td>\n",
       "      <td>405</td>\n",
       "      <td>60</td>\n",
       "      <td>62</td>\n",
       "      <td>63</td>\n",
       "      <td>80</td>\n",
       "      <td>80</td>\n",
       "      <td>60</td>\n",
       "      <td>1</td>\n",
       "      <td>False</td>\n",
       "    </tr>\n",
       "    <tr>\n",
       "      <th>2</th>\n",
       "      <td>3</td>\n",
       "      <td>Venusaur</td>\n",
       "      <td>Grass</td>\n",
       "      <td>Poison</td>\n",
       "      <td>525</td>\n",
       "      <td>80</td>\n",
       "      <td>82</td>\n",
       "      <td>83</td>\n",
       "      <td>100</td>\n",
       "      <td>100</td>\n",
       "      <td>80</td>\n",
       "      <td>1</td>\n",
       "      <td>False</td>\n",
       "    </tr>\n",
       "    <tr>\n",
       "      <th>3</th>\n",
       "      <td>3</td>\n",
       "      <td>VenusaurMega Venusaur</td>\n",
       "      <td>Grass</td>\n",
       "      <td>Poison</td>\n",
       "      <td>625</td>\n",
       "      <td>80</td>\n",
       "      <td>100</td>\n",
       "      <td>123</td>\n",
       "      <td>122</td>\n",
       "      <td>120</td>\n",
       "      <td>80</td>\n",
       "      <td>1</td>\n",
       "      <td>False</td>\n",
       "    </tr>\n",
       "    <tr>\n",
       "      <th>4</th>\n",
       "      <td>4</td>\n",
       "      <td>Charmander</td>\n",
       "      <td>Fire</td>\n",
       "      <td>NaN</td>\n",
       "      <td>309</td>\n",
       "      <td>39</td>\n",
       "      <td>52</td>\n",
       "      <td>43</td>\n",
       "      <td>60</td>\n",
       "      <td>50</td>\n",
       "      <td>65</td>\n",
       "      <td>1</td>\n",
       "      <td>False</td>\n",
       "    </tr>\n",
       "  </tbody>\n",
       "</table>\n",
       "</div>"
      ],
      "text/plain": [
       "   #                   Name Type 1  Type 2  Total  HP  Attack  Defense  \\\n",
       "0  1              Bulbasaur  Grass  Poison    318  45      49       49   \n",
       "1  2                Ivysaur  Grass  Poison    405  60      62       63   \n",
       "2  3               Venusaur  Grass  Poison    525  80      82       83   \n",
       "3  3  VenusaurMega Venusaur  Grass  Poison    625  80     100      123   \n",
       "4  4             Charmander   Fire     NaN    309  39      52       43   \n",
       "\n",
       "   Sp. Atk  Sp. Def  Speed  Generation  Legendary  \n",
       "0       65       65     45           1      False  \n",
       "1       80       80     60           1      False  \n",
       "2      100      100     80           1      False  \n",
       "3      122      120     80           1      False  \n",
       "4       60       50     65           1      False  "
      ]
     },
     "execution_count": 48,
     "metadata": {},
     "output_type": "execute_result"
    }
   ],
   "source": [
    "pokemon.head()"
   ]
  },
  {
   "cell_type": "code",
   "execution_count": 53,
   "id": "655af477-e6c7-4a00-9077-96f0b36eddae",
   "metadata": {
    "tags": []
   },
   "outputs": [
    {
     "data": {
      "text/plain": [
       "Index(['#', 'Name', 'Type 1', 'Type 2', 'Total', 'HP', 'Attack', 'Defense',\n",
       "       'Sp. Atk', 'Sp. Def', 'Speed', 'Generation', 'Legendary'],\n",
       "      dtype='object')"
      ]
     },
     "execution_count": 53,
     "metadata": {},
     "output_type": "execute_result"
    }
   ],
   "source": [
    "pokemon.columns"
   ]
  },
  {
   "cell_type": "code",
   "execution_count": 70,
   "id": "6f2b6e35-c4d2-4a58-b8d6-0716dbad6007",
   "metadata": {
    "tags": []
   },
   "outputs": [
    {
     "name": "stdout",
     "output_type": "stream",
     "text": [
      "721\n"
     ]
    }
   ],
   "source": [
    "valori_univoci=len(pokemon['#'].unique())\n",
    "print(valori_univoci)"
   ]
  },
  {
   "cell_type": "code",
   "execution_count": 72,
   "id": "20e11829-5775-45da-89d5-0537e6d8b0b6",
   "metadata": {
    "tags": []
   },
   "outputs": [
    {
     "data": {
      "text/plain": [
       "False"
      ]
     },
     "execution_count": 72,
     "metadata": {},
     "output_type": "execute_result"
    }
   ],
   "source": [
    "(pokemon.index == pokemon['#']).all()\n"
   ]
  },
  {
   "cell_type": "code",
   "execution_count": 73,
   "id": "13cca763-aae4-4f23-a279-7a987bcaa1e9",
   "metadata": {
    "tags": []
   },
   "outputs": [],
   "source": [
    "pokemon.set_index('#', inplace=True)"
   ]
  },
  {
   "cell_type": "code",
   "execution_count": 75,
   "id": "bfd0af55-e97a-476a-8a15-d9571766c064",
   "metadata": {
    "tags": []
   },
   "outputs": [
    {
     "data": {
      "text/html": [
       "<div>\n",
       "<style scoped>\n",
       "    .dataframe tbody tr th:only-of-type {\n",
       "        vertical-align: middle;\n",
       "    }\n",
       "\n",
       "    .dataframe tbody tr th {\n",
       "        vertical-align: top;\n",
       "    }\n",
       "\n",
       "    .dataframe thead th {\n",
       "        text-align: right;\n",
       "    }\n",
       "</style>\n",
       "<table border=\"1\" class=\"dataframe\">\n",
       "  <thead>\n",
       "    <tr style=\"text-align: right;\">\n",
       "      <th></th>\n",
       "      <th>Name</th>\n",
       "      <th>Type 1</th>\n",
       "      <th>Type 2</th>\n",
       "      <th>Total</th>\n",
       "      <th>HP</th>\n",
       "      <th>Attack</th>\n",
       "      <th>Defense</th>\n",
       "      <th>Sp. Atk</th>\n",
       "      <th>Sp. Def</th>\n",
       "      <th>Speed</th>\n",
       "      <th>Generation</th>\n",
       "      <th>Legendary</th>\n",
       "    </tr>\n",
       "    <tr>\n",
       "      <th>#</th>\n",
       "      <th></th>\n",
       "      <th></th>\n",
       "      <th></th>\n",
       "      <th></th>\n",
       "      <th></th>\n",
       "      <th></th>\n",
       "      <th></th>\n",
       "      <th></th>\n",
       "      <th></th>\n",
       "      <th></th>\n",
       "      <th></th>\n",
       "      <th></th>\n",
       "    </tr>\n",
       "  </thead>\n",
       "  <tbody>\n",
       "    <tr>\n",
       "      <th>1</th>\n",
       "      <td>Bulbasaur</td>\n",
       "      <td>Grass</td>\n",
       "      <td>Poison</td>\n",
       "      <td>318</td>\n",
       "      <td>45</td>\n",
       "      <td>49</td>\n",
       "      <td>49</td>\n",
       "      <td>65</td>\n",
       "      <td>65</td>\n",
       "      <td>45</td>\n",
       "      <td>1</td>\n",
       "      <td>False</td>\n",
       "    </tr>\n",
       "    <tr>\n",
       "      <th>2</th>\n",
       "      <td>Ivysaur</td>\n",
       "      <td>Grass</td>\n",
       "      <td>Poison</td>\n",
       "      <td>405</td>\n",
       "      <td>60</td>\n",
       "      <td>62</td>\n",
       "      <td>63</td>\n",
       "      <td>80</td>\n",
       "      <td>80</td>\n",
       "      <td>60</td>\n",
       "      <td>1</td>\n",
       "      <td>False</td>\n",
       "    </tr>\n",
       "    <tr>\n",
       "      <th>3</th>\n",
       "      <td>Venusaur</td>\n",
       "      <td>Grass</td>\n",
       "      <td>Poison</td>\n",
       "      <td>525</td>\n",
       "      <td>80</td>\n",
       "      <td>82</td>\n",
       "      <td>83</td>\n",
       "      <td>100</td>\n",
       "      <td>100</td>\n",
       "      <td>80</td>\n",
       "      <td>1</td>\n",
       "      <td>False</td>\n",
       "    </tr>\n",
       "    <tr>\n",
       "      <th>3</th>\n",
       "      <td>VenusaurMega Venusaur</td>\n",
       "      <td>Grass</td>\n",
       "      <td>Poison</td>\n",
       "      <td>625</td>\n",
       "      <td>80</td>\n",
       "      <td>100</td>\n",
       "      <td>123</td>\n",
       "      <td>122</td>\n",
       "      <td>120</td>\n",
       "      <td>80</td>\n",
       "      <td>1</td>\n",
       "      <td>False</td>\n",
       "    </tr>\n",
       "    <tr>\n",
       "      <th>4</th>\n",
       "      <td>Charmander</td>\n",
       "      <td>Fire</td>\n",
       "      <td>NaN</td>\n",
       "      <td>309</td>\n",
       "      <td>39</td>\n",
       "      <td>52</td>\n",
       "      <td>43</td>\n",
       "      <td>60</td>\n",
       "      <td>50</td>\n",
       "      <td>65</td>\n",
       "      <td>1</td>\n",
       "      <td>False</td>\n",
       "    </tr>\n",
       "  </tbody>\n",
       "</table>\n",
       "</div>"
      ],
      "text/plain": [
       "                    Name Type 1  Type 2  Total  HP  Attack  Defense  Sp. Atk  \\\n",
       "#                                                                              \n",
       "1              Bulbasaur  Grass  Poison    318  45      49       49       65   \n",
       "2                Ivysaur  Grass  Poison    405  60      62       63       80   \n",
       "3               Venusaur  Grass  Poison    525  80      82       83      100   \n",
       "3  VenusaurMega Venusaur  Grass  Poison    625  80     100      123      122   \n",
       "4             Charmander   Fire     NaN    309  39      52       43       60   \n",
       "\n",
       "   Sp. Def  Speed  Generation  Legendary  \n",
       "#                                         \n",
       "1       65     45           1      False  \n",
       "2       80     60           1      False  \n",
       "3      100     80           1      False  \n",
       "3      120     80           1      False  \n",
       "4       50     65           1      False  "
      ]
     },
     "execution_count": 75,
     "metadata": {},
     "output_type": "execute_result"
    }
   ],
   "source": [
    "pokemon.head()"
   ]
  },
  {
   "cell_type": "code",
   "execution_count": null,
   "id": "7a10f972-7c85-4df0-a7c9-9fe88342085e",
   "metadata": {},
   "outputs": [],
   "source": []
  }
 ],
 "metadata": {
  "kernelspec": {
   "display_name": "Python 3 (ipykernel)",
   "language": "python",
   "name": "python3"
  },
  "language_info": {
   "codemirror_mode": {
    "name": "ipython",
    "version": 3
   },
   "file_extension": ".py",
   "mimetype": "text/x-python",
   "name": "python",
   "nbconvert_exporter": "python",
   "pygments_lexer": "ipython3",
   "version": "3.11.5"
  }
 },
 "nbformat": 4,
 "nbformat_minor": 5
}
