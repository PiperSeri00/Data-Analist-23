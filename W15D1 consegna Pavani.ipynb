{
  "nbformat": 4,
  "nbformat_minor": 0,
  "metadata": {
    "colab": {
      "provenance": []
    },
    "kernelspec": {
      "name": "python3",
      "display_name": "Python 3"
    },
    "language_info": {
      "name": "python"
    }
  },
  "cells": [
    {
      "cell_type": "markdown",
      "source": [
        "Esercizio 1"
      ],
      "metadata": {
        "id": "bvn5vXN7Wor_"
      }
    },
    {
      "cell_type": "code",
      "execution_count": null,
      "metadata": {
        "id": "Fe7-pNyhWmd4"
      },
      "outputs": [],
      "source": [
        "gamma_auto = {'Ada' : 'Punto', 'Ben' : 'Multipla', 'Charlie' : 'Golf', 'Debbie' : '107'}"
      ]
    },
    {
      "cell_type": "code",
      "source": [
        "print(gamma_auto)"
      ],
      "metadata": {
        "colab": {
          "base_uri": "https://localhost:8080/"
        },
        "id": "AdOFPh_XW94Z",
        "outputId": "18676bd1-8712-44cf-ef5e-3fef9885cb19"
      },
      "execution_count": null,
      "outputs": [
        {
          "output_type": "stream",
          "name": "stdout",
          "text": [
            "{'Ada': 'Punto', 'Ben': 'Multipla', 'Charlie': 'Golf', 'Debbie': '107'}\n"
          ]
        }
      ]
    },
    {
      "cell_type": "code",
      "source": [
        "print('l auto di Debbie è la', gamma_auto['Debbie'])"
      ],
      "metadata": {
        "colab": {
          "base_uri": "https://localhost:8080/"
        },
        "id": "zQ4Xh3xdXKOs",
        "outputId": "30bc579b-e6de-424f-fe40-b01ea1deaa2d"
      },
      "execution_count": null,
      "outputs": [
        {
          "output_type": "stream",
          "name": "stdout",
          "text": [
            "l auto di Debbie è la 107\n"
          ]
        }
      ]
    },
    {
      "cell_type": "markdown",
      "source": [
        "Esercizio 2"
      ],
      "metadata": {
        "id": "WCHPoVz428kA"
      }
    },
    {
      "cell_type": "code",
      "source": [
        "dizionario_auto = {\"Ada\": \"Punto\", \"Ben\": \"Multipla\", \"Charlie\": \"Golf\", \"Debbie\": \"107\"}"
      ],
      "metadata": {
        "id": "0LaY80WEXa1P"
      },
      "execution_count": 2,
      "outputs": []
    },
    {
      "cell_type": "code",
      "source": [
        "for auto in dizionario_auto.values():\n",
        "    if auto != \"Multipla\":\n",
        "        print(auto)\n"
      ],
      "metadata": {
        "colab": {
          "base_uri": "https://localhost:8080/"
        },
        "id": "8hWMGT0t37ff",
        "outputId": "001cbf7e-3bb4-4926-b4e4-749a60d07e29"
      },
      "execution_count": null,
      "outputs": [
        {
          "output_type": "stream",
          "name": "stdout",
          "text": [
            "Punto\n",
            "Golf\n",
            "107\n"
          ]
        }
      ]
    },
    {
      "cell_type": "code",
      "source": [
        "print(dizionario_auto.items())"
      ],
      "metadata": {
        "colab": {
          "base_uri": "https://localhost:8080/"
        },
        "id": "RJJSFl4AShjg",
        "outputId": "cb64ab19-807c-47b1-876f-b53c53502c3f"
      },
      "execution_count": 6,
      "outputs": [
        {
          "output_type": "stream",
          "name": "stdout",
          "text": [
            "dict_items([('Ada', 'Punto'), ('Ben', 'Multipla'), ('Charlie', 'Golf'), ('Debbie', '107')])\n"
          ]
        }
      ]
    },
    {
      "cell_type": "code",
      "source": [
        "for nome, auto in dizionario_auto.items():\n",
        "  print(f'{nome} possidede una {auto}')"
      ],
      "metadata": {
        "colab": {
          "base_uri": "https://localhost:8080/"
        },
        "id": "f06VcTXp8K06",
        "outputId": "168b652d-b6f3-47d0-8de2-2ca1401bc971"
      },
      "execution_count": 3,
      "outputs": [
        {
          "output_type": "stream",
          "name": "stdout",
          "text": [
            "Ada possidede una Punto\n",
            "Ben possidede una Multipla\n",
            "Charlie possidede una Golf\n",
            "Debbie possidede una 107\n"
          ]
        }
      ]
    },
    {
      "cell_type": "markdown",
      "source": [
        "Esercizio 3"
      ],
      "metadata": {
        "id": "2MA2OpJj5IHq"
      }
    },
    {
      "cell_type": "code",
      "source": [
        "dizionario_auto = {\"Ada\": \"Punto\", \"Ben\": \"Multipla\", \"Charlie\": \"Golf\", \"Debbie\": \"107\", \"Emily\": \"A1\"}\n",
        "nuovi_proprietari = {\"Ben\": \"Polo\", \"Fred\": \"Octavia\", \"Grace\": \"Yaris\", \"Hugh\": \"Clio\"}"
      ],
      "metadata": {
        "id": "5dRwMRwn4oBT"
      },
      "execution_count": 4,
      "outputs": []
    },
    {
      "cell_type": "code",
      "source": [
        "for key, values in nuovi_proprietari.items():\n",
        "  dizionario_auto[key] = values\n",
        "print(dizionario_auto)"
      ],
      "metadata": {
        "colab": {
          "base_uri": "https://localhost:8080/"
        },
        "id": "A4m3Gd5PBgaW",
        "outputId": "b4330c2c-249e-40ab-ca60-e6b0eebe1e0e"
      },
      "execution_count": 7,
      "outputs": [
        {
          "output_type": "stream",
          "name": "stdout",
          "text": [
            "{'Ada': 'Punto', 'Ben': 'Polo', 'Charlie': 'Golf', 'Debbie': '107', 'Emily': 'A1', 'Fred': 'Octavia', 'Grace': 'Yaris', 'Hugh': 'Clio'}\n"
          ]
        }
      ]
    },
    {
      "cell_type": "code",
      "source": [
        "dizionario_auto.update(nuovi_proprietari)"
      ],
      "metadata": {
        "id": "q0EyatFQ5KHJ"
      },
      "execution_count": null,
      "outputs": []
    },
    {
      "cell_type": "code",
      "source": [
        "print(\"Dizionario Aggiornato:\", dizionario_auto)"
      ],
      "metadata": {
        "colab": {
          "base_uri": "https://localhost:8080/"
        },
        "id": "VDnpcAIl5SXc",
        "outputId": "fb2c2eb9-f2af-4cca-ae8c-7b2d57c59557"
      },
      "execution_count": null,
      "outputs": [
        {
          "output_type": "stream",
          "name": "stdout",
          "text": [
            "Dizionario Aggiornato: {'Ada': 'Punto', 'Ben': 'Polo', 'Charlie': 'Golf', 'Debbie': '107', 'Emily': 'A1', 'Fred': 'Octavia', 'Grace': 'Yaris', 'Hugh': 'Clio'}\n"
          ]
        }
      ]
    },
    {
      "cell_type": "code",
      "source": [],
      "metadata": {
        "id": "j-whunjf_Vvn"
      },
      "execution_count": null,
      "outputs": []
    },
    {
      "cell_type": "markdown",
      "source": [
        "Esercizio 4 (dopo json)"
      ],
      "metadata": {
        "id": "IWUu7EaHBk7a"
      }
    },
    {
      "cell_type": "code",
      "source": [
        "numbers = [1, 2, 3, 4, 5, 6, 7, 8, 9, 10]\n",
        "def min_max(n):\n",
        "    max_value = max(n)\n",
        "    min_value = min(n)\n",
        "    return max_value, min_value\n",
        "\n",
        "print(f\"Min is {min_max(numbers)[1]} and Max is {min_max(numbers)[0]}\")"
      ],
      "metadata": {
        "id": "XHD6Np3u72ph",
        "colab": {
          "base_uri": "https://localhost:8080/"
        },
        "outputId": "0d076405-409c-438a-c367-2214cd87c9d1"
      },
      "execution_count": 8,
      "outputs": [
        {
          "output_type": "stream",
          "name": "stdout",
          "text": [
            "Min is 1 and Max is 10\n"
          ]
        }
      ]
    },
    {
      "cell_type": "markdown",
      "source": [
        "Esercizio 5"
      ],
      "metadata": {
        "id": "u8MNjbDyJbeK"
      }
    },
    {
      "cell_type": "code",
      "source": [
        "def funzione(lista):\n",
        "  i=3\n",
        "  maxtre=[]\n",
        "  while i>0:\n",
        "    a=max(lista)\n",
        "    maxtre.append(a)\n",
        "    lista.remove(a)\n",
        "    i-=1\n",
        "  return maxtre"
      ],
      "metadata": {
        "id": "rH7pD7948-27"
      },
      "execution_count": null,
      "outputs": []
    },
    {
      "cell_type": "code",
      "source": [
        "numeri = [1, 2, 3, 4, 5, 6, 7]\n",
        "v=funzione(numeri)\n",
        "print(v)\n",
        "print(numeri)"
      ],
      "metadata": {
        "colab": {
          "base_uri": "https://localhost:8080/"
        },
        "id": "vqPGzRxv_OT2",
        "outputId": "4b1765b3-94f0-4085-fd7b-010bf26e9d7a"
      },
      "execution_count": null,
      "outputs": [
        {
          "output_type": "stream",
          "name": "stdout",
          "text": [
            "[7, 6, 5]\n",
            "[1, 2, 3, 4]\n"
          ]
        }
      ]
    },
    {
      "cell_type": "markdown",
      "source": [
        "Esercizio 6"
      ],
      "metadata": {
        "id": "r4B68oPpJ73Q"
      }
    },
    {
      "cell_type": "code",
      "source": [
        "def funzione(lista, k):\n",
        "  maggiori=[]\n",
        "  for numero in lista:\n",
        "    if numero >= k:\n",
        "      maggiori.append(numero)\n",
        "  a=sum(maggiori)/len(maggiori)\n",
        "  return a"
      ],
      "metadata": {
        "id": "P88SyqxqJ9FM"
      },
      "execution_count": 9,
      "outputs": []
    },
    {
      "cell_type": "code",
      "source": [
        "numeri=[1, 2, 5, 7, 10]\n",
        "a=5\n",
        "print(funzione(numeri, a))"
      ],
      "metadata": {
        "colab": {
          "base_uri": "https://localhost:8080/"
        },
        "id": "PB-V-HxWKdZo",
        "outputId": "6f3d1838-b400-47ed-ad16-f343e6fe3ef4"
      },
      "execution_count": 10,
      "outputs": [
        {
          "output_type": "stream",
          "name": "stdout",
          "text": [
            "7.333333333333333\n"
          ]
        }
      ]
    },
    {
      "cell_type": "markdown",
      "source": [
        "Esercizio 7"
      ],
      "metadata": {
        "id": "LwWuOG4N7159"
      }
    },
    {
      "cell_type": "code",
      "source": [
        "def star(lista):\n",
        "  for numero in lista:\n",
        "    print('*'*numero)"
      ],
      "metadata": {
        "id": "FCidk-XdCOj3"
      },
      "execution_count": null,
      "outputs": []
    },
    {
      "cell_type": "code",
      "source": [
        "numeri = [1, 2, 3, 4, 5, 4, 3, 2, 1]\n",
        "star(numeri)"
      ],
      "metadata": {
        "colab": {
          "base_uri": "https://localhost:8080/"
        },
        "id": "S7nevWbu8S1C",
        "outputId": "8e9ae777-e390-4ebc-b319-e3c6f32cf0ae"
      },
      "execution_count": null,
      "outputs": [
        {
          "output_type": "stream",
          "name": "stdout",
          "text": [
            "*\n",
            "**\n",
            "***\n",
            "****\n",
            "*****\n",
            "****\n",
            "***\n",
            "**\n",
            "*\n"
          ]
        }
      ]
    },
    {
      "cell_type": "code",
      "source": [],
      "metadata": {
        "id": "nLQ8R4wq8h3E"
      },
      "execution_count": null,
      "outputs": []
    }
  ]
}