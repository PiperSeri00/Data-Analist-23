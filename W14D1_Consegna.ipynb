{
  "nbformat": 4,
  "nbformat_minor": 0,
  "metadata": {
    "colab": {
      "provenance": []
    },
    "kernelspec": {
      "name": "python3",
      "display_name": "Python 3"
    },
    "language_info": {
      "name": "python"
    }
  },
  "cells": [
    {
      "cell_type": "markdown",
      "source": [
        "Ex 1"
      ],
      "metadata": {
        "id": "ITgVoIIY0fSw"
      }
    },
    {
      "cell_type": "code",
      "execution_count": null,
      "metadata": {
        "colab": {
          "base_uri": "https://localhost:8080/"
        },
        "id": "KNzM8i7dDfWc",
        "outputId": "93e7c00b-3c46-4cf0-fbad-4eb1144a6ea0"
      },
      "outputs": [
        {
          "output_type": "stream",
          "name": "stdout",
          "text": [
            "E\n",
            "p\n",
            "i\n",
            "c\n",
            "o\n",
            "d\n",
            "e\n"
          ]
        }
      ],
      "source": [
        "nome_scuola = 'Epicode'\n",
        "indice = 0\n",
        "while indice < len(nome_scuola):\n",
        "  print(nome_scuola[indice])\n",
        "  indice+=1"
      ]
    },
    {
      "cell_type": "markdown",
      "source": [
        "Ex 2"
      ],
      "metadata": {
        "id": "44LL5liK0ikk"
      }
    },
    {
      "cell_type": "code",
      "source": [
        "num = 0\n",
        "while num <= 20:\n",
        "  print(num)\n",
        "  num +=1"
      ],
      "metadata": {
        "colab": {
          "base_uri": "https://localhost:8080/"
        },
        "id": "qszCSAZwJR2s",
        "outputId": "eda720f5-7d32-4215-d88e-8ab349163d41"
      },
      "execution_count": null,
      "outputs": [
        {
          "output_type": "stream",
          "name": "stdout",
          "text": [
            "0\n",
            "1\n",
            "2\n",
            "3\n",
            "4\n",
            "5\n",
            "6\n",
            "7\n",
            "8\n",
            "9\n",
            "10\n",
            "11\n",
            "12\n",
            "13\n",
            "14\n",
            "15\n",
            "16\n",
            "17\n",
            "18\n",
            "19\n",
            "20\n"
          ]
        }
      ]
    },
    {
      "cell_type": "markdown",
      "source": [
        "Ex 3"
      ],
      "metadata": {
        "id": "wIWKUj1h0kuD"
      }
    },
    {
      "cell_type": "code",
      "source": [
        "n = 0\n",
        "\n",
        "while n < 10:\n",
        "    print(2 ** n)\n",
        "    n += 1\n"
      ],
      "metadata": {
        "colab": {
          "base_uri": "https://localhost:8080/"
        },
        "id": "ow9N9cs4K3LA",
        "outputId": "00a5dee3-5a6e-467f-d16d-1715ceb66ed2"
      },
      "execution_count": null,
      "outputs": [
        {
          "output_type": "stream",
          "name": "stdout",
          "text": [
            "1\n",
            "2\n",
            "4\n",
            "8\n",
            "16\n",
            "32\n",
            "64\n",
            "128\n",
            "256\n",
            "512\n"
          ]
        }
      ]
    },
    {
      "cell_type": "markdown",
      "source": [
        "Ex 4"
      ],
      "metadata": {
        "id": "PiFZlA5S0meS"
      }
    },
    {
      "cell_type": "code",
      "source": [
        "N = int(input(\"Inserisci il valore di N: \"))\n",
        "\n",
        "esponente = 0\n",
        "\n",
        "while esponente < N:\n",
        "    print(2 ** esponente)\n",
        "    esponente += 1\n"
      ],
      "metadata": {
        "colab": {
          "base_uri": "https://localhost:8080/"
        },
        "id": "j0MvsubpMOoG",
        "outputId": "232bf084-d1d8-4b53-f43a-4582960fb520"
      },
      "execution_count": null,
      "outputs": [
        {
          "output_type": "stream",
          "name": "stdout",
          "text": [
            "Inserisci il valore di N: 5\n",
            "1\n",
            "2\n",
            "4\n",
            "8\n",
            "16\n"
          ]
        }
      ]
    },
    {
      "cell_type": "markdown",
      "source": [
        "Ex 5"
      ],
      "metadata": {
        "id": "Gz4ERVV80o_Q"
      }
    },
    {
      "cell_type": "code",
      "source": [
        "base = 2\n",
        "esponente = 0\n",
        "\n",
        "while base ** esponente < 25000:\n",
        "    risultato = base ** esponente\n",
        "    print(risultato)\n",
        "    esponente += 1\n"
      ],
      "metadata": {
        "colab": {
          "base_uri": "https://localhost:8080/"
        },
        "id": "Zc6zKUMpNUgm",
        "outputId": "ac41944b-367d-446c-8af3-0557e6ed8d9a"
      },
      "execution_count": null,
      "outputs": [
        {
          "output_type": "stream",
          "name": "stdout",
          "text": [
            "1\n",
            "2\n",
            "4\n",
            "8\n",
            "16\n",
            "32\n",
            "64\n",
            "128\n",
            "256\n",
            "512\n",
            "1024\n",
            "2048\n",
            "4096\n",
            "8192\n",
            "16384\n"
          ]
        }
      ]
    },
    {
      "cell_type": "markdown",
      "source": [
        "Ex 6"
      ],
      "metadata": {
        "id": "c8rrMdWz0rQk"
      }
    },
    {
      "cell_type": "code",
      "source": [
        "studenti = [\"Alex\", \"Bob\", \"Cindy\", \"Dan\", \"Emma\", \"Faith\", \"Grace\", \"Henry\"]\n",
        "corsi = [\"Cybersecurity\", \"Data Analyst\", \"Backend\", \"Frontend\", \"Data Analyst\", \"Backend\"]\n",
        "\n",
        "if \"Emma\" not in studenti:\n",
        "    studenti.append(\"Emma\")\n",
        "    corsi.append(\"Data Analyst\")\n",
        "\n",
        "if \"Faith\" not in studenti:\n",
        "    studenti.append(\"Faith\")\n",
        "    corsi.append(\"Backend\")\n",
        "\n",
        "if \"Grace\" not in studenti:\n",
        "    studenti.append(\"Grace\")\n",
        "    corsi.append(\"Frontend\")\n",
        "\n",
        "if \"Henry\" not in studenti:\n",
        "    studenti.append(\"Henry\")\n",
        "    corsi.append(\"Cybersecurity\")\n",
        "\n",
        "if len(studenti) == len(corsi):\n",
        "    print(\"Lista corsi:\", corsi)\n",
        "else:\n",
        "    print(\"Le liste non sono della stessa lunghezza.\")\n",
        "\n"
      ],
      "metadata": {
        "colab": {
          "base_uri": "https://localhost:8080/"
        },
        "id": "X2qI_G_GOhRV",
        "outputId": "cfbbe188-f417-4ce8-f7c7-dcda240a07a1"
      },
      "execution_count": null,
      "outputs": [
        {
          "output_type": "stream",
          "name": "stdout",
          "text": [
            "Le liste non sono della stessa lunghezza.\n"
          ]
        }
      ]
    },
    {
      "cell_type": "markdown",
      "source": [
        "Ex 7"
      ],
      "metadata": {
        "id": "nstfNuz90tvk"
      }
    },
    {
      "cell_type": "code",
      "source": [
        "input_utente = input(\"Inserisci una stringa: \")\n",
        "\n",
        "lunghezza_stringa = len(input_utente)\n",
        "\n",
        "if lunghezza_stringa >= 6:\n",
        "    output = input_utente[:3] + \"...\" + input_utente[-3:]\n",
        "    print(\"Output:\", output)\n",
        "elif lunghezza_stringa >= 3:\n",
        "    output = input_utente[:3] + \"...\"\n",
        "    print(\"Output:\", output)\n",
        "else:\n",
        "    print(\"La stringa è troppo corta, inseriscine una più lunga.\")\n"
      ],
      "metadata": {
        "colab": {
          "base_uri": "https://localhost:8080/"
        },
        "id": "k4T6s6ZzOu3Z",
        "outputId": "d81bbf63-8293-440e-c51a-d0133bd9b82e"
      },
      "execution_count": null,
      "outputs": [
        {
          "output_type": "stream",
          "name": "stdout",
          "text": [
            "Inserisci una stringa: nonna\n",
            "Output: non...\n"
          ]
        }
      ]
    },
    {
      "cell_type": "markdown",
      "source": [
        "Ex 8"
      ],
      "metadata": {
        "id": "vpImbn490v6g"
      }
    },
    {
      "cell_type": "code",
      "source": [
        "num = int(input(\"Scrivi un numero: \"))\n",
        "div = 2\n",
        "num2 = num\n",
        "lista = []\n",
        "\n",
        "while num2 > 1 :\n",
        "    if num2 % div == 0:\n",
        "        lista.append(div)\n",
        "        num2 = num2/div\n",
        "        div = 2\n",
        "    else:\n",
        "        div += 1\n",
        "print(lista)\n"
      ],
      "metadata": {
        "id": "PbZOZXdRQXNj",
        "colab": {
          "base_uri": "https://localhost:8080/"
        },
        "outputId": "dbab3941-fd10-455f-b2be-ef1df6ed7f81"
      },
      "execution_count": 11,
      "outputs": [
        {
          "output_type": "stream",
          "name": "stdout",
          "text": [
            "Scrivi un numero: 40\n",
            "[2, 2, 2, 5]\n"
          ]
        }
      ]
    },
    {
      "cell_type": "code",
      "source": [],
      "metadata": {
        "id": "Yz1JkfSc1B5Q"
      },
      "execution_count": 8,
      "outputs": []
    }
  ]
}